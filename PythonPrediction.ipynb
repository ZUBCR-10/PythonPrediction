{
  "nbformat": 4,
  "nbformat_minor": 0,
  "metadata": {
    "colab": {
      "provenance": [],
      "include_colab_link": true
    },
    "kernelspec": {
      "name": "python3",
      "display_name": "Python 3"
    },
    "language_info": {
      "name": "python"
    }
  },
  "cells": [
    {
      "cell_type": "markdown",
      "metadata": {
        "id": "view-in-github",
        "colab_type": "text"
      },
      "source": [
        "<a href=\"https://colab.research.google.com/github/ZUBCR-10/PythonPrediction/blob/main/PythonPrediction.ipynb\" target=\"_parent\"><img src=\"https://colab.research.google.com/assets/colab-badge.svg\" alt=\"Open In Colab\"/></a>"
      ]
    },
    {
      "cell_type": "markdown",
      "source": [
        "Proyecto de prediccion del clima\n"
      ],
      "metadata": {
        "id": "VHGSaqsUfAgJ"
      }
    },
    {
      "cell_type": "code",
      "source": [
        "from google.colab import files\n",
        "uploaded = files.upload()"
      ],
      "metadata": {
        "colab": {
          "base_uri": "https://localhost:8080/",
          "height": 38
        },
        "id": "_PK9dNvtfK7d",
        "outputId": "e6f6e67d-2274-43a9-a4d1-3eb5a697c095"
      },
      "execution_count": null,
      "outputs": [
        {
          "output_type": "display_data",
          "data": {
            "text/plain": [
              "<IPython.core.display.HTML object>"
            ],
            "text/html": [
              "\n",
              "     <input type=\"file\" id=\"files-c9b34764-a623-4f6b-bc8b-cee4ca9d6025\" name=\"files[]\" multiple disabled\n",
              "        style=\"border:none\" />\n",
              "     <output id=\"result-c9b34764-a623-4f6b-bc8b-cee4ca9d6025\">\n",
              "      Upload widget is only available when the cell has been executed in the\n",
              "      current browser session. Please rerun this cell to enable.\n",
              "      </output>\n",
              "      <script>// Copyright 2017 Google LLC\n",
              "//\n",
              "// Licensed under the Apache License, Version 2.0 (the \"License\");\n",
              "// you may not use this file except in compliance with the License.\n",
              "// You may obtain a copy of the License at\n",
              "//\n",
              "//      http://www.apache.org/licenses/LICENSE-2.0\n",
              "//\n",
              "// Unless required by applicable law or agreed to in writing, software\n",
              "// distributed under the License is distributed on an \"AS IS\" BASIS,\n",
              "// WITHOUT WARRANTIES OR CONDITIONS OF ANY KIND, either express or implied.\n",
              "// See the License for the specific language governing permissions and\n",
              "// limitations under the License.\n",
              "\n",
              "/**\n",
              " * @fileoverview Helpers for google.colab Python module.\n",
              " */\n",
              "(function(scope) {\n",
              "function span(text, styleAttributes = {}) {\n",
              "  const element = document.createElement('span');\n",
              "  element.textContent = text;\n",
              "  for (const key of Object.keys(styleAttributes)) {\n",
              "    element.style[key] = styleAttributes[key];\n",
              "  }\n",
              "  return element;\n",
              "}\n",
              "\n",
              "// Max number of bytes which will be uploaded at a time.\n",
              "const MAX_PAYLOAD_SIZE = 100 * 1024;\n",
              "\n",
              "function _uploadFiles(inputId, outputId) {\n",
              "  const steps = uploadFilesStep(inputId, outputId);\n",
              "  const outputElement = document.getElementById(outputId);\n",
              "  // Cache steps on the outputElement to make it available for the next call\n",
              "  // to uploadFilesContinue from Python.\n",
              "  outputElement.steps = steps;\n",
              "\n",
              "  return _uploadFilesContinue(outputId);\n",
              "}\n",
              "\n",
              "// This is roughly an async generator (not supported in the browser yet),\n",
              "// where there are multiple asynchronous steps and the Python side is going\n",
              "// to poll for completion of each step.\n",
              "// This uses a Promise to block the python side on completion of each step,\n",
              "// then passes the result of the previous step as the input to the next step.\n",
              "function _uploadFilesContinue(outputId) {\n",
              "  const outputElement = document.getElementById(outputId);\n",
              "  const steps = outputElement.steps;\n",
              "\n",
              "  const next = steps.next(outputElement.lastPromiseValue);\n",
              "  return Promise.resolve(next.value.promise).then((value) => {\n",
              "    // Cache the last promise value to make it available to the next\n",
              "    // step of the generator.\n",
              "    outputElement.lastPromiseValue = value;\n",
              "    return next.value.response;\n",
              "  });\n",
              "}\n",
              "\n",
              "/**\n",
              " * Generator function which is called between each async step of the upload\n",
              " * process.\n",
              " * @param {string} inputId Element ID of the input file picker element.\n",
              " * @param {string} outputId Element ID of the output display.\n",
              " * @return {!Iterable<!Object>} Iterable of next steps.\n",
              " */\n",
              "function* uploadFilesStep(inputId, outputId) {\n",
              "  const inputElement = document.getElementById(inputId);\n",
              "  inputElement.disabled = false;\n",
              "\n",
              "  const outputElement = document.getElementById(outputId);\n",
              "  outputElement.innerHTML = '';\n",
              "\n",
              "  const pickedPromise = new Promise((resolve) => {\n",
              "    inputElement.addEventListener('change', (e) => {\n",
              "      resolve(e.target.files);\n",
              "    });\n",
              "  });\n",
              "\n",
              "  const cancel = document.createElement('button');\n",
              "  inputElement.parentElement.appendChild(cancel);\n",
              "  cancel.textContent = 'Cancel upload';\n",
              "  const cancelPromise = new Promise((resolve) => {\n",
              "    cancel.onclick = () => {\n",
              "      resolve(null);\n",
              "    };\n",
              "  });\n",
              "\n",
              "  // Wait for the user to pick the files.\n",
              "  const files = yield {\n",
              "    promise: Promise.race([pickedPromise, cancelPromise]),\n",
              "    response: {\n",
              "      action: 'starting',\n",
              "    }\n",
              "  };\n",
              "\n",
              "  cancel.remove();\n",
              "\n",
              "  // Disable the input element since further picks are not allowed.\n",
              "  inputElement.disabled = true;\n",
              "\n",
              "  if (!files) {\n",
              "    return {\n",
              "      response: {\n",
              "        action: 'complete',\n",
              "      }\n",
              "    };\n",
              "  }\n",
              "\n",
              "  for (const file of files) {\n",
              "    const li = document.createElement('li');\n",
              "    li.append(span(file.name, {fontWeight: 'bold'}));\n",
              "    li.append(span(\n",
              "        `(${file.type || 'n/a'}) - ${file.size} bytes, ` +\n",
              "        `last modified: ${\n",
              "            file.lastModifiedDate ? file.lastModifiedDate.toLocaleDateString() :\n",
              "                                    'n/a'} - `));\n",
              "    const percent = span('0% done');\n",
              "    li.appendChild(percent);\n",
              "\n",
              "    outputElement.appendChild(li);\n",
              "\n",
              "    const fileDataPromise = new Promise((resolve) => {\n",
              "      const reader = new FileReader();\n",
              "      reader.onload = (e) => {\n",
              "        resolve(e.target.result);\n",
              "      };\n",
              "      reader.readAsArrayBuffer(file);\n",
              "    });\n",
              "    // Wait for the data to be ready.\n",
              "    let fileData = yield {\n",
              "      promise: fileDataPromise,\n",
              "      response: {\n",
              "        action: 'continue',\n",
              "      }\n",
              "    };\n",
              "\n",
              "    // Use a chunked sending to avoid message size limits. See b/62115660.\n",
              "    let position = 0;\n",
              "    do {\n",
              "      const length = Math.min(fileData.byteLength - position, MAX_PAYLOAD_SIZE);\n",
              "      const chunk = new Uint8Array(fileData, position, length);\n",
              "      position += length;\n",
              "\n",
              "      const base64 = btoa(String.fromCharCode.apply(null, chunk));\n",
              "      yield {\n",
              "        response: {\n",
              "          action: 'append',\n",
              "          file: file.name,\n",
              "          data: base64,\n",
              "        },\n",
              "      };\n",
              "\n",
              "      let percentDone = fileData.byteLength === 0 ?\n",
              "          100 :\n",
              "          Math.round((position / fileData.byteLength) * 100);\n",
              "      percent.textContent = `${percentDone}% done`;\n",
              "\n",
              "    } while (position < fileData.byteLength);\n",
              "  }\n",
              "\n",
              "  // All done.\n",
              "  yield {\n",
              "    response: {\n",
              "      action: 'complete',\n",
              "    }\n",
              "  };\n",
              "}\n",
              "\n",
              "scope.google = scope.google || {};\n",
              "scope.google.colab = scope.google.colab || {};\n",
              "scope.google.colab._files = {\n",
              "  _uploadFiles,\n",
              "  _uploadFilesContinue,\n",
              "};\n",
              "})(self);\n",
              "</script> "
            ]
          },
          "metadata": {}
        }
      ]
    },
    {
      "cell_type": "markdown",
      "source": [
        "Cargamos pandas y leemos los datos"
      ],
      "metadata": {
        "id": "yzRNc6zD6xpC"
      }
    },
    {
      "cell_type": "code",
      "source": [
        "import io\n",
        "import pandas as pd\n",
        "Base_Datos = pd.read_csv(io.BytesIO(uploaded['BaseDatos.csv']))"
      ],
      "metadata": {
        "id": "fH4TJesDwhTw"
      },
      "execution_count": null,
      "outputs": []
    },
    {
      "cell_type": "markdown",
      "source": [
        "Hacemos una primera inspeccion para ver que se haya cargado bien"
      ],
      "metadata": {
        "id": "IGxJIHOMxNQ8"
      }
    },
    {
      "cell_type": "code",
      "source": [
        "Base_Datos"
      ],
      "metadata": {
        "colab": {
          "base_uri": "https://localhost:8080/",
          "height": 424
        },
        "id": "ndIY5bKJxRPs",
        "outputId": "2f548880-ea86-4921-9063-555b10e2e088"
      },
      "execution_count": null,
      "outputs": [
        {
          "output_type": "execute_result",
          "data": {
            "text/plain": [
              "          STATION                    NAME        DATE  PRCP  TMAX  TMIN\n",
              "0     USW00022516  KAHULUI AIRPORT, HI US  2012-07-17  0.00  84.0  73.0\n",
              "1     USW00022516  KAHULUI AIRPORT, HI US  2012-07-18  0.00  86.0  74.0\n",
              "2     USW00022516  KAHULUI AIRPORT, HI US  2012-07-19  0.00  85.0  72.0\n",
              "3     USW00022516  KAHULUI AIRPORT, HI US  2012-07-20  0.00  85.0  70.0\n",
              "4     USW00022516  KAHULUI AIRPORT, HI US  2012-07-21  0.00  87.0  65.0\n",
              "...           ...                     ...         ...   ...   ...   ...\n",
              "3648  USW00022516  KAHULUI AIRPORT, HI US  2022-07-13  0.02  88.0  75.0\n",
              "3649  USW00022516  KAHULUI AIRPORT, HI US  2022-07-14  0.00  89.0  74.0\n",
              "3650  USW00022516  KAHULUI AIRPORT, HI US  2022-07-15  0.00  89.0  73.0\n",
              "3651  USW00022516  KAHULUI AIRPORT, HI US  2022-07-16   NaN   NaN   NaN\n",
              "3652  USW00022516  KAHULUI AIRPORT, HI US  2022-07-17   NaN   NaN   NaN\n",
              "\n",
              "[3653 rows x 6 columns]"
            ],
            "text/html": [
              "\n",
              "  <div id=\"df-394de920-e9af-401d-bb49-81a87e26a216\">\n",
              "    <div class=\"colab-df-container\">\n",
              "      <div>\n",
              "<style scoped>\n",
              "    .dataframe tbody tr th:only-of-type {\n",
              "        vertical-align: middle;\n",
              "    }\n",
              "\n",
              "    .dataframe tbody tr th {\n",
              "        vertical-align: top;\n",
              "    }\n",
              "\n",
              "    .dataframe thead th {\n",
              "        text-align: right;\n",
              "    }\n",
              "</style>\n",
              "<table border=\"1\" class=\"dataframe\">\n",
              "  <thead>\n",
              "    <tr style=\"text-align: right;\">\n",
              "      <th></th>\n",
              "      <th>STATION</th>\n",
              "      <th>NAME</th>\n",
              "      <th>DATE</th>\n",
              "      <th>PRCP</th>\n",
              "      <th>TMAX</th>\n",
              "      <th>TMIN</th>\n",
              "    </tr>\n",
              "  </thead>\n",
              "  <tbody>\n",
              "    <tr>\n",
              "      <th>0</th>\n",
              "      <td>USW00022516</td>\n",
              "      <td>KAHULUI AIRPORT, HI US</td>\n",
              "      <td>2012-07-17</td>\n",
              "      <td>0.00</td>\n",
              "      <td>84.0</td>\n",
              "      <td>73.0</td>\n",
              "    </tr>\n",
              "    <tr>\n",
              "      <th>1</th>\n",
              "      <td>USW00022516</td>\n",
              "      <td>KAHULUI AIRPORT, HI US</td>\n",
              "      <td>2012-07-18</td>\n",
              "      <td>0.00</td>\n",
              "      <td>86.0</td>\n",
              "      <td>74.0</td>\n",
              "    </tr>\n",
              "    <tr>\n",
              "      <th>2</th>\n",
              "      <td>USW00022516</td>\n",
              "      <td>KAHULUI AIRPORT, HI US</td>\n",
              "      <td>2012-07-19</td>\n",
              "      <td>0.00</td>\n",
              "      <td>85.0</td>\n",
              "      <td>72.0</td>\n",
              "    </tr>\n",
              "    <tr>\n",
              "      <th>3</th>\n",
              "      <td>USW00022516</td>\n",
              "      <td>KAHULUI AIRPORT, HI US</td>\n",
              "      <td>2012-07-20</td>\n",
              "      <td>0.00</td>\n",
              "      <td>85.0</td>\n",
              "      <td>70.0</td>\n",
              "    </tr>\n",
              "    <tr>\n",
              "      <th>4</th>\n",
              "      <td>USW00022516</td>\n",
              "      <td>KAHULUI AIRPORT, HI US</td>\n",
              "      <td>2012-07-21</td>\n",
              "      <td>0.00</td>\n",
              "      <td>87.0</td>\n",
              "      <td>65.0</td>\n",
              "    </tr>\n",
              "    <tr>\n",
              "      <th>...</th>\n",
              "      <td>...</td>\n",
              "      <td>...</td>\n",
              "      <td>...</td>\n",
              "      <td>...</td>\n",
              "      <td>...</td>\n",
              "      <td>...</td>\n",
              "    </tr>\n",
              "    <tr>\n",
              "      <th>3648</th>\n",
              "      <td>USW00022516</td>\n",
              "      <td>KAHULUI AIRPORT, HI US</td>\n",
              "      <td>2022-07-13</td>\n",
              "      <td>0.02</td>\n",
              "      <td>88.0</td>\n",
              "      <td>75.0</td>\n",
              "    </tr>\n",
              "    <tr>\n",
              "      <th>3649</th>\n",
              "      <td>USW00022516</td>\n",
              "      <td>KAHULUI AIRPORT, HI US</td>\n",
              "      <td>2022-07-14</td>\n",
              "      <td>0.00</td>\n",
              "      <td>89.0</td>\n",
              "      <td>74.0</td>\n",
              "    </tr>\n",
              "    <tr>\n",
              "      <th>3650</th>\n",
              "      <td>USW00022516</td>\n",
              "      <td>KAHULUI AIRPORT, HI US</td>\n",
              "      <td>2022-07-15</td>\n",
              "      <td>0.00</td>\n",
              "      <td>89.0</td>\n",
              "      <td>73.0</td>\n",
              "    </tr>\n",
              "    <tr>\n",
              "      <th>3651</th>\n",
              "      <td>USW00022516</td>\n",
              "      <td>KAHULUI AIRPORT, HI US</td>\n",
              "      <td>2022-07-16</td>\n",
              "      <td>NaN</td>\n",
              "      <td>NaN</td>\n",
              "      <td>NaN</td>\n",
              "    </tr>\n",
              "    <tr>\n",
              "      <th>3652</th>\n",
              "      <td>USW00022516</td>\n",
              "      <td>KAHULUI AIRPORT, HI US</td>\n",
              "      <td>2022-07-17</td>\n",
              "      <td>NaN</td>\n",
              "      <td>NaN</td>\n",
              "      <td>NaN</td>\n",
              "    </tr>\n",
              "  </tbody>\n",
              "</table>\n",
              "<p>3653 rows × 6 columns</p>\n",
              "</div>\n",
              "      <button class=\"colab-df-convert\" onclick=\"convertToInteractive('df-394de920-e9af-401d-bb49-81a87e26a216')\"\n",
              "              title=\"Convert this dataframe to an interactive table.\"\n",
              "              style=\"display:none;\">\n",
              "        \n",
              "  <svg xmlns=\"http://www.w3.org/2000/svg\" height=\"24px\"viewBox=\"0 0 24 24\"\n",
              "       width=\"24px\">\n",
              "    <path d=\"M0 0h24v24H0V0z\" fill=\"none\"/>\n",
              "    <path d=\"M18.56 5.44l.94 2.06.94-2.06 2.06-.94-2.06-.94-.94-2.06-.94 2.06-2.06.94zm-11 1L8.5 8.5l.94-2.06 2.06-.94-2.06-.94L8.5 2.5l-.94 2.06-2.06.94zm10 10l.94 2.06.94-2.06 2.06-.94-2.06-.94-.94-2.06-.94 2.06-2.06.94z\"/><path d=\"M17.41 7.96l-1.37-1.37c-.4-.4-.92-.59-1.43-.59-.52 0-1.04.2-1.43.59L10.3 9.45l-7.72 7.72c-.78.78-.78 2.05 0 2.83L4 21.41c.39.39.9.59 1.41.59.51 0 1.02-.2 1.41-.59l7.78-7.78 2.81-2.81c.8-.78.8-2.07 0-2.86zM5.41 20L4 18.59l7.72-7.72 1.47 1.35L5.41 20z\"/>\n",
              "  </svg>\n",
              "      </button>\n",
              "      \n",
              "  <style>\n",
              "    .colab-df-container {\n",
              "      display:flex;\n",
              "      flex-wrap:wrap;\n",
              "      gap: 12px;\n",
              "    }\n",
              "\n",
              "    .colab-df-convert {\n",
              "      background-color: #E8F0FE;\n",
              "      border: none;\n",
              "      border-radius: 50%;\n",
              "      cursor: pointer;\n",
              "      display: none;\n",
              "      fill: #1967D2;\n",
              "      height: 32px;\n",
              "      padding: 0 0 0 0;\n",
              "      width: 32px;\n",
              "    }\n",
              "\n",
              "    .colab-df-convert:hover {\n",
              "      background-color: #E2EBFA;\n",
              "      box-shadow: 0px 1px 2px rgba(60, 64, 67, 0.3), 0px 1px 3px 1px rgba(60, 64, 67, 0.15);\n",
              "      fill: #174EA6;\n",
              "    }\n",
              "\n",
              "    [theme=dark] .colab-df-convert {\n",
              "      background-color: #3B4455;\n",
              "      fill: #D2E3FC;\n",
              "    }\n",
              "\n",
              "    [theme=dark] .colab-df-convert:hover {\n",
              "      background-color: #434B5C;\n",
              "      box-shadow: 0px 1px 3px 1px rgba(0, 0, 0, 0.15);\n",
              "      filter: drop-shadow(0px 1px 2px rgba(0, 0, 0, 0.3));\n",
              "      fill: #FFFFFF;\n",
              "    }\n",
              "  </style>\n",
              "\n",
              "      <script>\n",
              "        const buttonEl =\n",
              "          document.querySelector('#df-394de920-e9af-401d-bb49-81a87e26a216 button.colab-df-convert');\n",
              "        buttonEl.style.display =\n",
              "          google.colab.kernel.accessAllowed ? 'block' : 'none';\n",
              "\n",
              "        async function convertToInteractive(key) {\n",
              "          const element = document.querySelector('#df-394de920-e9af-401d-bb49-81a87e26a216');\n",
              "          const dataTable =\n",
              "            await google.colab.kernel.invokeFunction('convertToInteractive',\n",
              "                                                     [key], {});\n",
              "          if (!dataTable) return;\n",
              "\n",
              "          const docLinkHtml = 'Like what you see? Visit the ' +\n",
              "            '<a target=\"_blank\" href=https://colab.research.google.com/notebooks/data_table.ipynb>data table notebook</a>'\n",
              "            + ' to learn more about interactive tables.';\n",
              "          element.innerHTML = '';\n",
              "          dataTable['output_type'] = 'display_data';\n",
              "          await google.colab.output.renderOutput(dataTable, element);\n",
              "          const docLink = document.createElement('div');\n",
              "          docLink.innerHTML = docLinkHtml;\n",
              "          element.appendChild(docLink);\n",
              "        }\n",
              "      </script>\n",
              "    </div>\n",
              "  </div>\n",
              "  "
            ]
          },
          "metadata": {},
          "execution_count": 3
        }
      ]
    },
    {
      "cell_type": "markdown",
      "source": [
        "Verificamos una sola columna en esta ocasion la temperatura maxima y vemos que hacen falta datos"
      ],
      "metadata": {
        "id": "uIgVlKYXxpOt"
      }
    },
    {
      "cell_type": "code",
      "source": [
        "Base_Datos[\"TMAX\"]"
      ],
      "metadata": {
        "colab": {
          "base_uri": "https://localhost:8080/"
        },
        "id": "TXdqHWNnxxWO",
        "outputId": "265d8172-c4d8-4018-a6f0-ee1ae2730296"
      },
      "execution_count": null,
      "outputs": [
        {
          "output_type": "execute_result",
          "data": {
            "text/plain": [
              "0       84.0\n",
              "1       86.0\n",
              "2       85.0\n",
              "3       85.0\n",
              "4       87.0\n",
              "        ... \n",
              "3648    88.0\n",
              "3649    89.0\n",
              "3650    89.0\n",
              "3651     NaN\n",
              "3652     NaN\n",
              "Name: TMAX, Length: 3653, dtype: float64"
            ]
          },
          "metadata": {},
          "execution_count": 4
        }
      ]
    },
    {
      "cell_type": "markdown",
      "source": [
        "Vemos la composicion de los datos"
      ],
      "metadata": {
        "id": "PQgo6RTKyDLJ"
      }
    },
    {
      "cell_type": "code",
      "source": [
        "Base_Datos.info()"
      ],
      "metadata": {
        "colab": {
          "base_uri": "https://localhost:8080/"
        },
        "id": "KMU0DMJryHe4",
        "outputId": "4b90c88e-24fb-4883-941d-f6aec52340bf"
      },
      "execution_count": null,
      "outputs": [
        {
          "output_type": "stream",
          "name": "stdout",
          "text": [
            "<class 'pandas.core.frame.DataFrame'>\n",
            "RangeIndex: 3653 entries, 0 to 3652\n",
            "Data columns (total 6 columns):\n",
            " #   Column   Non-Null Count  Dtype  \n",
            "---  ------   --------------  -----  \n",
            " 0   STATION  3653 non-null   object \n",
            " 1   NAME     3653 non-null   object \n",
            " 2   DATE     3653 non-null   object \n",
            " 3   PRCP     3644 non-null   float64\n",
            " 4   TMAX     3643 non-null   float64\n",
            " 5   TMIN     3643 non-null   float64\n",
            "dtypes: float64(3), object(3)\n",
            "memory usage: 171.4+ KB\n"
          ]
        }
      ]
    },
    {
      "cell_type": "markdown",
      "source": [
        "Descripcion estadistica de la base de datos"
      ],
      "metadata": {
        "id": "KYVie-CD8OrY"
      }
    },
    {
      "cell_type": "code",
      "source": [
        "Base_Datos.describe()"
      ],
      "metadata": {
        "colab": {
          "base_uri": "https://localhost:8080/",
          "height": 300
        },
        "id": "SSzKr5yJ8j3s",
        "outputId": "cf3ad9f6-5983-4218-f252-394aede32ad8"
      },
      "execution_count": null,
      "outputs": [
        {
          "output_type": "execute_result",
          "data": {
            "text/plain": [
              "              PRCP         TMAX         TMIN\n",
              "count  3644.000000  3643.000000  3643.000000\n",
              "mean      0.050744    85.850398    68.480922\n",
              "std       0.248327     4.195899     4.725276\n",
              "min       0.000000    70.000000    52.000000\n",
              "25%       0.000000    83.000000    65.000000\n",
              "50%       0.000000    86.000000    69.000000\n",
              "75%       0.010000    89.000000    72.000000\n",
              "max       6.400000    97.000000    79.000000"
            ],
            "text/html": [
              "\n",
              "  <div id=\"df-d1c54fe0-d552-49e9-8e4d-98d3f330ad2a\">\n",
              "    <div class=\"colab-df-container\">\n",
              "      <div>\n",
              "<style scoped>\n",
              "    .dataframe tbody tr th:only-of-type {\n",
              "        vertical-align: middle;\n",
              "    }\n",
              "\n",
              "    .dataframe tbody tr th {\n",
              "        vertical-align: top;\n",
              "    }\n",
              "\n",
              "    .dataframe thead th {\n",
              "        text-align: right;\n",
              "    }\n",
              "</style>\n",
              "<table border=\"1\" class=\"dataframe\">\n",
              "  <thead>\n",
              "    <tr style=\"text-align: right;\">\n",
              "      <th></th>\n",
              "      <th>PRCP</th>\n",
              "      <th>TMAX</th>\n",
              "      <th>TMIN</th>\n",
              "    </tr>\n",
              "  </thead>\n",
              "  <tbody>\n",
              "    <tr>\n",
              "      <th>count</th>\n",
              "      <td>3644.000000</td>\n",
              "      <td>3643.000000</td>\n",
              "      <td>3643.000000</td>\n",
              "    </tr>\n",
              "    <tr>\n",
              "      <th>mean</th>\n",
              "      <td>0.050744</td>\n",
              "      <td>85.850398</td>\n",
              "      <td>68.480922</td>\n",
              "    </tr>\n",
              "    <tr>\n",
              "      <th>std</th>\n",
              "      <td>0.248327</td>\n",
              "      <td>4.195899</td>\n",
              "      <td>4.725276</td>\n",
              "    </tr>\n",
              "    <tr>\n",
              "      <th>min</th>\n",
              "      <td>0.000000</td>\n",
              "      <td>70.000000</td>\n",
              "      <td>52.000000</td>\n",
              "    </tr>\n",
              "    <tr>\n",
              "      <th>25%</th>\n",
              "      <td>0.000000</td>\n",
              "      <td>83.000000</td>\n",
              "      <td>65.000000</td>\n",
              "    </tr>\n",
              "    <tr>\n",
              "      <th>50%</th>\n",
              "      <td>0.000000</td>\n",
              "      <td>86.000000</td>\n",
              "      <td>69.000000</td>\n",
              "    </tr>\n",
              "    <tr>\n",
              "      <th>75%</th>\n",
              "      <td>0.010000</td>\n",
              "      <td>89.000000</td>\n",
              "      <td>72.000000</td>\n",
              "    </tr>\n",
              "    <tr>\n",
              "      <th>max</th>\n",
              "      <td>6.400000</td>\n",
              "      <td>97.000000</td>\n",
              "      <td>79.000000</td>\n",
              "    </tr>\n",
              "  </tbody>\n",
              "</table>\n",
              "</div>\n",
              "      <button class=\"colab-df-convert\" onclick=\"convertToInteractive('df-d1c54fe0-d552-49e9-8e4d-98d3f330ad2a')\"\n",
              "              title=\"Convert this dataframe to an interactive table.\"\n",
              "              style=\"display:none;\">\n",
              "        \n",
              "  <svg xmlns=\"http://www.w3.org/2000/svg\" height=\"24px\"viewBox=\"0 0 24 24\"\n",
              "       width=\"24px\">\n",
              "    <path d=\"M0 0h24v24H0V0z\" fill=\"none\"/>\n",
              "    <path d=\"M18.56 5.44l.94 2.06.94-2.06 2.06-.94-2.06-.94-.94-2.06-.94 2.06-2.06.94zm-11 1L8.5 8.5l.94-2.06 2.06-.94-2.06-.94L8.5 2.5l-.94 2.06-2.06.94zm10 10l.94 2.06.94-2.06 2.06-.94-2.06-.94-.94-2.06-.94 2.06-2.06.94z\"/><path d=\"M17.41 7.96l-1.37-1.37c-.4-.4-.92-.59-1.43-.59-.52 0-1.04.2-1.43.59L10.3 9.45l-7.72 7.72c-.78.78-.78 2.05 0 2.83L4 21.41c.39.39.9.59 1.41.59.51 0 1.02-.2 1.41-.59l7.78-7.78 2.81-2.81c.8-.78.8-2.07 0-2.86zM5.41 20L4 18.59l7.72-7.72 1.47 1.35L5.41 20z\"/>\n",
              "  </svg>\n",
              "      </button>\n",
              "      \n",
              "  <style>\n",
              "    .colab-df-container {\n",
              "      display:flex;\n",
              "      flex-wrap:wrap;\n",
              "      gap: 12px;\n",
              "    }\n",
              "\n",
              "    .colab-df-convert {\n",
              "      background-color: #E8F0FE;\n",
              "      border: none;\n",
              "      border-radius: 50%;\n",
              "      cursor: pointer;\n",
              "      display: none;\n",
              "      fill: #1967D2;\n",
              "      height: 32px;\n",
              "      padding: 0 0 0 0;\n",
              "      width: 32px;\n",
              "    }\n",
              "\n",
              "    .colab-df-convert:hover {\n",
              "      background-color: #E2EBFA;\n",
              "      box-shadow: 0px 1px 2px rgba(60, 64, 67, 0.3), 0px 1px 3px 1px rgba(60, 64, 67, 0.15);\n",
              "      fill: #174EA6;\n",
              "    }\n",
              "\n",
              "    [theme=dark] .colab-df-convert {\n",
              "      background-color: #3B4455;\n",
              "      fill: #D2E3FC;\n",
              "    }\n",
              "\n",
              "    [theme=dark] .colab-df-convert:hover {\n",
              "      background-color: #434B5C;\n",
              "      box-shadow: 0px 1px 3px 1px rgba(0, 0, 0, 0.15);\n",
              "      filter: drop-shadow(0px 1px 2px rgba(0, 0, 0, 0.3));\n",
              "      fill: #FFFFFF;\n",
              "    }\n",
              "  </style>\n",
              "\n",
              "      <script>\n",
              "        const buttonEl =\n",
              "          document.querySelector('#df-d1c54fe0-d552-49e9-8e4d-98d3f330ad2a button.colab-df-convert');\n",
              "        buttonEl.style.display =\n",
              "          google.colab.kernel.accessAllowed ? 'block' : 'none';\n",
              "\n",
              "        async function convertToInteractive(key) {\n",
              "          const element = document.querySelector('#df-d1c54fe0-d552-49e9-8e4d-98d3f330ad2a');\n",
              "          const dataTable =\n",
              "            await google.colab.kernel.invokeFunction('convertToInteractive',\n",
              "                                                     [key], {});\n",
              "          if (!dataTable) return;\n",
              "\n",
              "          const docLinkHtml = 'Like what you see? Visit the ' +\n",
              "            '<a target=\"_blank\" href=https://colab.research.google.com/notebooks/data_table.ipynb>data table notebook</a>'\n",
              "            + ' to learn more about interactive tables.';\n",
              "          element.innerHTML = '';\n",
              "          dataTable['output_type'] = 'display_data';\n",
              "          await google.colab.output.renderOutput(dataTable, element);\n",
              "          const docLink = document.createElement('div');\n",
              "          docLink.innerHTML = docLinkHtml;\n",
              "          element.appendChild(docLink);\n",
              "        }\n",
              "      </script>\n",
              "    </div>\n",
              "  </div>\n",
              "  "
            ]
          },
          "metadata": {},
          "execution_count": 6
        }
      ]
    },
    {
      "cell_type": "code",
      "source": [
        "Base_Datos.hist()"
      ],
      "metadata": {
        "colab": {
          "base_uri": "https://localhost:8080/",
          "height": 368
        },
        "id": "o6ngYTPzt8E1",
        "outputId": "80c90129-9ffb-4723-e082-013886d9b99a"
      },
      "execution_count": null,
      "outputs": [
        {
          "output_type": "execute_result",
          "data": {
            "text/plain": [
              "array([[<matplotlib.axes._subplots.AxesSubplot object at 0x7f44bb3f74d0>,\n",
              "        <matplotlib.axes._subplots.AxesSubplot object at 0x7f44bb3c3650>],\n",
              "       [<matplotlib.axes._subplots.AxesSubplot object at 0x7f44bb3950d0>,\n",
              "        <matplotlib.axes._subplots.AxesSubplot object at 0x7f44bb34b6d0>]],\n",
              "      dtype=object)"
            ]
          },
          "metadata": {},
          "execution_count": 7
        },
        {
          "output_type": "display_data",
          "data": {
            "text/plain": [
              "<Figure size 432x288 with 4 Axes>"
            ],
            "image/png": "[encoded data removed]"
          },
          "metadata": {
            "needs_background": "light"
          }
        }
      ]
    },
    {
      "cell_type": "markdown",
      "source": [
        "Procedemos a eliminar los datos que no son necesarios"
      ],
      "metadata": {
        "id": "sa6dGmeDF_dj"
      }
    },
    {
      "cell_type": "code",
      "source": [
        "Base_Datos = Base_Datos.drop(columns=['STATION'])\n",
        "Base_Datos = Base_Datos.drop(columns=['NAME'])\n",
        "Base_Datos = Base_Datos.drop(columns=['DATE'])"
      ],
      "metadata": {
        "id": "hpkNXUoytvcZ"
      },
      "execution_count": null,
      "outputs": []
    },
    {
      "cell_type": "code",
      "source": [
        "Base_Datos.isna().sum()"
      ],
      "metadata": {
        "colab": {
          "base_uri": "https://localhost:8080/"
        },
        "id": "hfKgmDyoP5sW",
        "outputId": "e4881606-c4a5-4c73-c663-e916e59710b5"
      },
      "execution_count": null,
      "outputs": [
        {
          "output_type": "execute_result",
          "data": {
            "text/plain": [
              "PRCP     9\n",
              "TMAX    10\n",
              "TMIN    10\n",
              "dtype: int64"
            ]
          },
          "metadata": {},
          "execution_count": 9
        }
      ]
    },
    {
      "cell_type": "markdown",
      "source": [
        "Rellenamos con ceros en las varibles incompletas\n",
        "\n",
        "\n"
      ],
      "metadata": {
        "id": "bCQJwZuqQEO0"
      }
    },
    {
      "cell_type": "code",
      "source": [
        "Base_Datos[\"PRCP\"] = Base_Datos[\"PRCP\"].fillna(0)\n",
        "Base_Datos[\"TMAX\"] = Base_Datos[\"TMAX\"].fillna(0)\n",
        "Base_Datos[\"TMIN\"] = Base_Datos[\"TMIN\"].fillna(0)\n",
        "\n",
        "Base_Datos"
      ],
      "metadata": {
        "colab": {
          "base_uri": "https://localhost:8080/",
          "height": 424
        },
        "id": "-3ra9pM-pKHf",
        "outputId": "2e0eee98-962e-44e7-ad52-e39a9150ded3"
      },
      "execution_count": null,
      "outputs": [
        {
          "output_type": "execute_result",
          "data": {
            "text/plain": [
              "      PRCP  TMAX  TMIN\n",
              "0     0.00  84.0  73.0\n",
              "1     0.00  86.0  74.0\n",
              "2     0.00  85.0  72.0\n",
              "3     0.00  85.0  70.0\n",
              "4     0.00  87.0  65.0\n",
              "...    ...   ...   ...\n",
              "3648  0.02  88.0  75.0\n",
              "3649  0.00  89.0  74.0\n",
              "3650  0.00  89.0  73.0\n",
              "3651  0.00   0.0   0.0\n",
              "3652  0.00   0.0   0.0\n",
              "\n",
              "[3653 rows x 3 columns]"
            ],
            "text/html": [
              "\n",
              "  <div id=\"df-6c919148-d94a-4256-b94e-4340bac38b63\">\n",
              "    <div class=\"colab-df-container\">\n",
              "      <div>\n",
              "<style scoped>\n",
              "    .dataframe tbody tr th:only-of-type {\n",
              "        vertical-align: middle;\n",
              "    }\n",
              "\n",
              "    .dataframe tbody tr th {\n",
              "        vertical-align: top;\n",
              "    }\n",
              "\n",
              "    .dataframe thead th {\n",
              "        text-align: right;\n",
              "    }\n",
              "</style>\n",
              "<table border=\"1\" class=\"dataframe\">\n",
              "  <thead>\n",
              "    <tr style=\"text-align: right;\">\n",
              "      <th></th>\n",
              "      <th>PRCP</th>\n",
              "      <th>TMAX</th>\n",
              "      <th>TMIN</th>\n",
              "    </tr>\n",
              "  </thead>\n",
              "  <tbody>\n",
              "    <tr>\n",
              "      <th>0</th>\n",
              "      <td>0.00</td>\n",
              "      <td>84.0</td>\n",
              "      <td>73.0</td>\n",
              "    </tr>\n",
              "    <tr>\n",
              "      <th>1</th>\n",
              "      <td>0.00</td>\n",
              "      <td>86.0</td>\n",
              "      <td>74.0</td>\n",
              "    </tr>\n",
              "    <tr>\n",
              "      <th>2</th>\n",
              "      <td>0.00</td>\n",
              "      <td>85.0</td>\n",
              "      <td>72.0</td>\n",
              "    </tr>\n",
              "    <tr>\n",
              "      <th>3</th>\n",
              "      <td>0.00</td>\n",
              "      <td>85.0</td>\n",
              "      <td>70.0</td>\n",
              "    </tr>\n",
              "    <tr>\n",
              "      <th>4</th>\n",
              "      <td>0.00</td>\n",
              "      <td>87.0</td>\n",
              "      <td>65.0</td>\n",
              "    </tr>\n",
              "    <tr>\n",
              "      <th>...</th>\n",
              "      <td>...</td>\n",
              "      <td>...</td>\n",
              "      <td>...</td>\n",
              "    </tr>\n",
              "    <tr>\n",
              "      <th>3648</th>\n",
              "      <td>0.02</td>\n",
              "      <td>88.0</td>\n",
              "      <td>75.0</td>\n",
              "    </tr>\n",
              "    <tr>\n",
              "      <th>3649</th>\n",
              "      <td>0.00</td>\n",
              "      <td>89.0</td>\n",
              "      <td>74.0</td>\n",
              "    </tr>\n",
              "    <tr>\n",
              "      <th>3650</th>\n",
              "      <td>0.00</td>\n",
              "      <td>89.0</td>\n",
              "      <td>73.0</td>\n",
              "    </tr>\n",
              "    <tr>\n",
              "      <th>3651</th>\n",
              "      <td>0.00</td>\n",
              "      <td>0.0</td>\n",
              "      <td>0.0</td>\n",
              "    </tr>\n",
              "    <tr>\n",
              "      <th>3652</th>\n",
              "      <td>0.00</td>\n",
              "      <td>0.0</td>\n",
              "      <td>0.0</td>\n",
              "    </tr>\n",
              "  </tbody>\n",
              "</table>\n",
              "<p>3653 rows × 3 columns</p>\n",
              "</div>\n",
              "      <button class=\"colab-df-convert\" onclick=\"convertToInteractive('df-6c919148-d94a-4256-b94e-4340bac38b63')\"\n",
              "              title=\"Convert this dataframe to an interactive table.\"\n",
              "              style=\"display:none;\">\n",
              "        \n",
              "  <svg xmlns=\"http://www.w3.org/2000/svg\" height=\"24px\"viewBox=\"0 0 24 24\"\n",
              "       width=\"24px\">\n",
              "    <path d=\"M0 0h24v24H0V0z\" fill=\"none\"/>\n",
              "    <path d=\"M18.56 5.44l.94 2.06.94-2.06 2.06-.94-2.06-.94-.94-2.06-.94 2.06-2.06.94zm-11 1L8.5 8.5l.94-2.06 2.06-.94-2.06-.94L8.5 2.5l-.94 2.06-2.06.94zm10 10l.94 2.06.94-2.06 2.06-.94-2.06-.94-.94-2.06-.94 2.06-2.06.94z\"/><path d=\"M17.41 7.96l-1.37-1.37c-.4-.4-.92-.59-1.43-.59-.52 0-1.04.2-1.43.59L10.3 9.45l-7.72 7.72c-.78.78-.78 2.05 0 2.83L4 21.41c.39.39.9.59 1.41.59.51 0 1.02-.2 1.41-.59l7.78-7.78 2.81-2.81c.8-.78.8-2.07 0-2.86zM5.41 20L4 18.59l7.72-7.72 1.47 1.35L5.41 20z\"/>\n",
              "  </svg>\n",
              "      </button>\n",
              "      \n",
              "  <style>\n",
              "    .colab-df-container {\n",
              "      display:flex;\n",
              "      flex-wrap:wrap;\n",
              "      gap: 12px;\n",
              "    }\n",
              "\n",
              "    .colab-df-convert {\n",
              "      background-color: #E8F0FE;\n",
              "      border: none;\n",
              "      border-radius: 50%;\n",
              "      cursor: pointer;\n",
              "      display: none;\n",
              "      fill: #1967D2;\n",
              "      height: 32px;\n",
              "      padding: 0 0 0 0;\n",
              "      width: 32px;\n",
              "    }\n",
              "\n",
              "    .colab-df-convert:hover {\n",
              "      background-color: #E2EBFA;\n",
              "      box-shadow: 0px 1px 2px rgba(60, 64, 67, 0.3), 0px 1px 3px 1px rgba(60, 64, 67, 0.15);\n",
              "      fill: #174EA6;\n",
              "    }\n",
              "\n",
              "    [theme=dark] .colab-df-convert {\n",
              "      background-color: #3B4455;\n",
              "      fill: #D2E3FC;\n",
              "    }\n",
              "\n",
              "    [theme=dark] .colab-df-convert:hover {\n",
              "      background-color: #434B5C;\n",
              "      box-shadow: 0px 1px 3px 1px rgba(0, 0, 0, 0.15);\n",
              "      filter: drop-shadow(0px 1px 2px rgba(0, 0, 0, 0.3));\n",
              "      fill: #FFFFFF;\n",
              "    }\n",
              "  </style>\n",
              "\n",
              "      <script>\n",
              "        const buttonEl =\n",
              "          document.querySelector('#df-6c919148-d94a-4256-b94e-4340bac38b63 button.colab-df-convert');\n",
              "        buttonEl.style.display =\n",
              "          google.colab.kernel.accessAllowed ? 'block' : 'none';\n",
              "\n",
              "        async function convertToInteractive(key) {\n",
              "          const element = document.querySelector('#df-6c919148-d94a-4256-b94e-4340bac38b63');\n",
              "          const dataTable =\n",
              "            await google.colab.kernel.invokeFunction('convertToInteractive',\n",
              "                                                     [key], {});\n",
              "          if (!dataTable) return;\n",
              "\n",
              "          const docLinkHtml = 'Like what you see? Visit the ' +\n",
              "            '<a target=\"_blank\" href=https://colab.research.google.com/notebooks/data_table.ipynb>data table notebook</a>'\n",
              "            + ' to learn more about interactive tables.';\n",
              "          element.innerHTML = '';\n",
              "          dataTable['output_type'] = 'display_data';\n",
              "          await google.colab.output.renderOutput(dataTable, element);\n",
              "          const docLink = document.createElement('div');\n",
              "          docLink.innerHTML = docLinkHtml;\n",
              "          element.appendChild(docLink);\n",
              "        }\n",
              "      </script>\n",
              "    </div>\n",
              "  </div>\n",
              "  "
            ]
          },
          "metadata": {},
          "execution_count": 10
        }
      ]
    },
    {
      "cell_type": "markdown",
      "source": [
        "Analizamos mediante graficos los datos DE TMAX VS TMIN"
      ],
      "metadata": {
        "id": "ptEI0izUp20w"
      }
    },
    {
      "cell_type": "code",
      "source": [
        "import matplotlib.pyplot as plt\n",
        "plt.scatter(x= Base_Datos['TMAX'], y= Base_Datos['TMIN']) \n",
        "plt.xlabel('Temperatura Maxima')\n",
        "plt.ylabel('Temperatura Minima')\n",
        "plt.show()"
      ],
      "metadata": {
        "colab": {
          "base_uri": "https://localhost:8080/",
          "height": 279
        },
        "id": "89Cdlp1op7sQ",
        "outputId": "e2b82cd7-8a3a-4e34-8a02-a3a383fd8a2e"
      },
      "execution_count": null,
      "outputs": [
        {
          "output_type": "display_data",
          "data": {
            "text/plain": [
              "<Figure size 432x288 with 1 Axes>"
            ],
            "image/png": "[encoded data removed]"
          },
          "metadata": {
            "needs_background": "light"
          }
        }
      ]
    },
    {
      "cell_type": "markdown",
      "source": [
        "Eliminamos los datos que se salen del rango"
      ],
      "metadata": {
        "id": "bZk1ZxAUqqiw"
      }
    },
    {
      "cell_type": "code",
      "source": [
        "Base_Datos = Base_Datos.query('TMAX>60')\n",
        "Base_Datos = Base_Datos.query('TMIN>50')"
      ],
      "metadata": {
        "id": "NQjhLs1LqwO7"
      },
      "execution_count": null,
      "outputs": []
    },
    {
      "cell_type": "code",
      "source": [
        "plt.scatter(x= Base_Datos['TMAX'], y= Base_Datos['TMIN']) \n",
        "plt.xlabel('Temperatura Maxima')\n",
        "plt.ylabel('Temperatura Minima')\n",
        "plt.show()"
      ],
      "metadata": {
        "colab": {
          "base_uri": "https://localhost:8080/",
          "height": 281
        },
        "id": "dPuWYztJrUZX",
        "outputId": "e285255d-c3f5-448c-98a2-44e9e5d1b59a"
      },
      "execution_count": null,
      "outputs": [
        {
          "output_type": "display_data",
          "data": {
            "text/plain": [
              "<Figure size 432x288 with 1 Axes>"
            ],
            "image/png": "[encoded data removed]"
          },
          "metadata": {
            "needs_background": "light"
          }
        }
      ]
    },
    {
      "cell_type": "markdown",
      "source": [
        "Analizamos mediante graficos los datos DE PRCP VS TMAX"
      ],
      "metadata": {
        "id": "0LXll3j4r2_9"
      }
    },
    {
      "cell_type": "code",
      "source": [
        "plt.scatter(x= Base_Datos['PRCP'], y= Base_Datos['TMAX']) \n",
        "plt.xlabel('Presipitaciones')\n",
        "plt.ylabel('Temperatura Maxima')\n",
        "plt.show()"
      ],
      "metadata": {
        "colab": {
          "base_uri": "https://localhost:8080/",
          "height": 279
        },
        "id": "3oxsSniVr_RZ",
        "outputId": "c9701b45-af0e-43af-9977-3b5d0b314dcd"
      },
      "execution_count": null,
      "outputs": [
        {
          "output_type": "display_data",
          "data": {
            "text/plain": [
              "<Figure size 432x288 with 1 Axes>"
            ],
            "image/png": "[encoded data removed]"
          },
          "metadata": {
            "needs_background": "light"
          }
        }
      ]
    },
    {
      "cell_type": "code",
      "source": [
        "Base_Datos = Base_Datos.query('PRCP<2')"
      ],
      "metadata": {
        "id": "TSZtJXLpsVJw"
      },
      "execution_count": null,
      "outputs": []
    },
    {
      "cell_type": "code",
      "source": [
        "plt.scatter(x= Base_Datos['PRCP'], y= Base_Datos['TMAX']) \n",
        "plt.xlabel('precipitaciones')\n",
        "plt.ylabel('Temperatura Maxima')\n",
        "plt.show()"
      ],
      "metadata": {
        "colab": {
          "base_uri": "https://localhost:8080/",
          "height": 279
        },
        "id": "Ivga77-msbVZ",
        "outputId": "bee68835-dfe9-4fe9-db2e-329cdc5b4514"
      },
      "execution_count": null,
      "outputs": [
        {
          "output_type": "display_data",
          "data": {
            "text/plain": [
              "<Figure size 432x288 with 1 Axes>"
            ],
            "image/png": "[encoded data removed]"
          },
          "metadata": {
            "needs_background": "light"
          }
        }
      ]
    },
    {
      "cell_type": "markdown",
      "source": [
        "Analizamos mediante graficos los datos DE PRCP VS TMIN"
      ],
      "metadata": {
        "id": "jX1AObrbsgoc"
      }
    },
    {
      "cell_type": "code",
      "source": [
        "plt.scatter(x= Base_Datos['PRCP'], y= Base_Datos['TMIN']) \n",
        "plt.xlabel('precipitaciones')\n",
        "plt.ylabel('Temperatura Minima')\n",
        "plt.show()"
      ],
      "metadata": {
        "colab": {
          "base_uri": "https://localhost:8080/",
          "height": 281
        },
        "id": "4aQH58_BslL8",
        "outputId": "a2279ef1-b1cf-479a-a5f4-832969e306cf"
      },
      "execution_count": null,
      "outputs": [
        {
          "output_type": "display_data",
          "data": {
            "text/plain": [
              "<Figure size 432x288 with 1 Axes>"
            ],
            "image/png": "[encoded data removed]"
          },
          "metadata": {
            "needs_background": "light"
          }
        }
      ]
    },
    {
      "cell_type": "code",
      "source": [
        "Base_Datos"
      ],
      "metadata": {
        "colab": {
          "base_uri": "https://localhost:8080/",
          "height": 424
        },
        "id": "5gbP1JsWs7P5",
        "outputId": "8eab983d-6220-48a3-a96f-5275545c82ea"
      },
      "execution_count": null,
      "outputs": [
        {
          "output_type": "execute_result",
          "data": {
            "text/plain": [
              "      PRCP  TMAX  TMIN\n",
              "0     0.00  84.0  73.0\n",
              "1     0.00  86.0  74.0\n",
              "2     0.00  85.0  72.0\n",
              "3     0.00  85.0  70.0\n",
              "4     0.00  87.0  65.0\n",
              "...    ...   ...   ...\n",
              "3646  0.00  89.0  75.0\n",
              "3647  0.01  87.0  70.0\n",
              "3648  0.02  88.0  75.0\n",
              "3649  0.00  89.0  74.0\n",
              "3650  0.00  89.0  73.0\n",
              "\n",
              "[3643 rows x 3 columns]"
            ],
            "text/html": [
              "\n",
              "  <div id=\"df-edbb68d6-5e36-410a-a754-71533208884b\">\n",
              "    <div class=\"colab-df-container\">\n",
              "      <div>\n",
              "<style scoped>\n",
              "    .dataframe tbody tr th:only-of-type {\n",
              "        vertical-align: middle;\n",
              "    }\n",
              "\n",
              "    .dataframe tbody tr th {\n",
              "        vertical-align: top;\n",
              "    }\n",
              "\n",
              "    .dataframe thead th {\n",
              "        text-align: right;\n",
              "    }\n",
              "</style>\n",
              "<table border=\"1\" class=\"dataframe\">\n",
              "  <thead>\n",
              "    <tr style=\"text-align: right;\">\n",
              "      <th></th>\n",
              "      <th>PRCP</th>\n",
              "      <th>TMAX</th>\n",
              "      <th>TMIN</th>\n",
              "    </tr>\n",
              "  </thead>\n",
              "  <tbody>\n",
              "    <tr>\n",
              "      <th>0</th>\n",
              "      <td>0.00</td>\n",
              "      <td>84.0</td>\n",
              "      <td>73.0</td>\n",
              "    </tr>\n",
              "    <tr>\n",
              "      <th>1</th>\n",
              "      <td>0.00</td>\n",
              "      <td>86.0</td>\n",
              "      <td>74.0</td>\n",
              "    </tr>\n",
              "    <tr>\n",
              "      <th>2</th>\n",
              "      <td>0.00</td>\n",
              "      <td>85.0</td>\n",
              "      <td>72.0</td>\n",
              "    </tr>\n",
              "    <tr>\n",
              "      <th>3</th>\n",
              "      <td>0.00</td>\n",
              "      <td>85.0</td>\n",
              "      <td>70.0</td>\n",
              "    </tr>\n",
              "    <tr>\n",
              "      <th>4</th>\n",
              "      <td>0.00</td>\n",
              "      <td>87.0</td>\n",
              "      <td>65.0</td>\n",
              "    </tr>\n",
              "    <tr>\n",
              "      <th>...</th>\n",
              "      <td>...</td>\n",
              "      <td>...</td>\n",
              "      <td>...</td>\n",
              "    </tr>\n",
              "    <tr>\n",
              "      <th>3646</th>\n",
              "      <td>0.00</td>\n",
              "      <td>89.0</td>\n",
              "      <td>75.0</td>\n",
              "    </tr>\n",
              "    <tr>\n",
              "      <th>3647</th>\n",
              "      <td>0.01</td>\n",
              "      <td>87.0</td>\n",
              "      <td>70.0</td>\n",
              "    </tr>\n",
              "    <tr>\n",
              "      <th>3648</th>\n",
              "      <td>0.02</td>\n",
              "      <td>88.0</td>\n",
              "      <td>75.0</td>\n",
              "    </tr>\n",
              "    <tr>\n",
              "      <th>3649</th>\n",
              "      <td>0.00</td>\n",
              "      <td>89.0</td>\n",
              "      <td>74.0</td>\n",
              "    </tr>\n",
              "    <tr>\n",
              "      <th>3650</th>\n",
              "      <td>0.00</td>\n",
              "      <td>89.0</td>\n",
              "      <td>73.0</td>\n",
              "    </tr>\n",
              "  </tbody>\n",
              "</table>\n",
              "<p>3643 rows × 3 columns</p>\n",
              "</div>\n",
              "      <button class=\"colab-df-convert\" onclick=\"convertToInteractive('df-edbb68d6-5e36-410a-a754-71533208884b')\"\n",
              "              title=\"Convert this dataframe to an interactive table.\"\n",
              "              style=\"display:none;\">\n",
              "        \n",
              "  <svg xmlns=\"http://www.w3.org/2000/svg\" height=\"24px\"viewBox=\"0 0 24 24\"\n",
              "       width=\"24px\">\n",
              "    <path d=\"M0 0h24v24H0V0z\" fill=\"none\"/>\n",
              "    <path d=\"M18.56 5.44l.94 2.06.94-2.06 2.06-.94-2.06-.94-.94-2.06-.94 2.06-2.06.94zm-11 1L8.5 8.5l.94-2.06 2.06-.94-2.06-.94L8.5 2.5l-.94 2.06-2.06.94zm10 10l.94 2.06.94-2.06 2.06-.94-2.06-.94-.94-2.06-.94 2.06-2.06.94z\"/><path d=\"M17.41 7.96l-1.37-1.37c-.4-.4-.92-.59-1.43-.59-.52 0-1.04.2-1.43.59L10.3 9.45l-7.72 7.72c-.78.78-.78 2.05 0 2.83L4 21.41c.39.39.9.59 1.41.59.51 0 1.02-.2 1.41-.59l7.78-7.78 2.81-2.81c.8-.78.8-2.07 0-2.86zM5.41 20L4 18.59l7.72-7.72 1.47 1.35L5.41 20z\"/>\n",
              "  </svg>\n",
              "      </button>\n",
              "      \n",
              "  <style>\n",
              "    .colab-df-container {\n",
              "      display:flex;\n",
              "      flex-wrap:wrap;\n",
              "      gap: 12px;\n",
              "    }\n",
              "\n",
              "    .colab-df-convert {\n",
              "      background-color: #E8F0FE;\n",
              "      border: none;\n",
              "      border-radius: 50%;\n",
              "      cursor: pointer;\n",
              "      display: none;\n",
              "      fill: #1967D2;\n",
              "      height: 32px;\n",
              "      padding: 0 0 0 0;\n",
              "      width: 32px;\n",
              "    }\n",
              "\n",
              "    .colab-df-convert:hover {\n",
              "      background-color: #E2EBFA;\n",
              "      box-shadow: 0px 1px 2px rgba(60, 64, 67, 0.3), 0px 1px 3px 1px rgba(60, 64, 67, 0.15);\n",
              "      fill: #174EA6;\n",
              "    }\n",
              "\n",
              "    [theme=dark] .colab-df-convert {\n",
              "      background-color: #3B4455;\n",
              "      fill: #D2E3FC;\n",
              "    }\n",
              "\n",
              "    [theme=dark] .colab-df-convert:hover {\n",
              "      background-color: #434B5C;\n",
              "      box-shadow: 0px 1px 3px 1px rgba(0, 0, 0, 0.15);\n",
              "      filter: drop-shadow(0px 1px 2px rgba(0, 0, 0, 0.3));\n",
              "      fill: #FFFFFF;\n",
              "    }\n",
              "  </style>\n",
              "\n",
              "      <script>\n",
              "        const buttonEl =\n",
              "          document.querySelector('#df-edbb68d6-5e36-410a-a754-71533208884b button.colab-df-convert');\n",
              "        buttonEl.style.display =\n",
              "          google.colab.kernel.accessAllowed ? 'block' : 'none';\n",
              "\n",
              "        async function convertToInteractive(key) {\n",
              "          const element = document.querySelector('#df-edbb68d6-5e36-410a-a754-71533208884b');\n",
              "          const dataTable =\n",
              "            await google.colab.kernel.invokeFunction('convertToInteractive',\n",
              "                                                     [key], {});\n",
              "          if (!dataTable) return;\n",
              "\n",
              "          const docLinkHtml = 'Like what you see? Visit the ' +\n",
              "            '<a target=\"_blank\" href=https://colab.research.google.com/notebooks/data_table.ipynb>data table notebook</a>'\n",
              "            + ' to learn more about interactive tables.';\n",
              "          element.innerHTML = '';\n",
              "          dataTable['output_type'] = 'display_data';\n",
              "          await google.colab.output.renderOutput(dataTable, element);\n",
              "          const docLink = document.createElement('div');\n",
              "          docLink.innerHTML = docLinkHtml;\n",
              "          element.appendChild(docLink);\n",
              "        }\n",
              "      </script>\n",
              "    </div>\n",
              "  </div>\n",
              "  "
            ]
          },
          "metadata": {},
          "execution_count": 17
        }
      ]
    },
    {
      "cell_type": "markdown",
      "source": [
        "Fase de entramiento del modelo de machine learning"
      ],
      "metadata": {
        "id": "8ORo6Gfcu2dT"
      }
    },
    {
      "cell_type": "markdown",
      "source": [
        "Separamos los datos de entrenamiento 80% y de test 20%"
      ],
      "metadata": {
        "id": "8qhFg1w6xNZk"
      }
    },
    {
      "cell_type": "code",
      "source": [
        "Datos_entrenamiento = Base_Datos.sample(frac=0.8,random_state=0)\n",
        "Datos_test = Base_Datos.drop(Datos_entrenamiento.index)"
      ],
      "metadata": {
        "id": "j32UT8_Ku9bm"
      },
      "execution_count": null,
      "outputs": []
    },
    {
      "cell_type": "code",
      "source": [
        "Datos_entrenamiento"
      ],
      "metadata": {
        "colab": {
          "base_uri": "https://localhost:8080/",
          "height": 424
        },
        "id": "r9cJNoCKxZpB",
        "outputId": "567dd74b-08f7-4fad-8829-26e21a612a55"
      },
      "execution_count": null,
      "outputs": [
        {
          "output_type": "execute_result",
          "data": {
            "text/plain": [
              "      PRCP  TMAX  TMIN\n",
              "443    0.0  89.0  69.0\n",
              "1752   0.0  86.0  74.0\n",
              "989    0.0  88.0  64.0\n",
              "2582   0.0  93.0  70.0\n",
              "2879   0.0  91.0  71.0\n",
              "...    ...   ...   ...\n",
              "409    0.0  90.0  67.0\n",
              "2692   0.0  85.0  74.0\n",
              "1623   0.0  82.0  71.0\n",
              "115    0.0  85.0  71.0\n",
              "288    0.0  89.0  64.0\n",
              "\n",
              "[2914 rows x 3 columns]"
            ],
            "text/html": [
              "\n",
              "  <div id=\"df-d065d15f-9c2f-4f52-8ddd-75a7bf0ead2f\">\n",
              "    <div class=\"colab-df-container\">\n",
              "      <div>\n",
              "<style scoped>\n",
              "    .dataframe tbody tr th:only-of-type {\n",
              "        vertical-align: middle;\n",
              "    }\n",
              "\n",
              "    .dataframe tbody tr th {\n",
              "        vertical-align: top;\n",
              "    }\n",
              "\n",
              "    .dataframe thead th {\n",
              "        text-align: right;\n",
              "    }\n",
              "</style>\n",
              "<table border=\"1\" class=\"dataframe\">\n",
              "  <thead>\n",
              "    <tr style=\"text-align: right;\">\n",
              "      <th></th>\n",
              "      <th>PRCP</th>\n",
              "      <th>TMAX</th>\n",
              "      <th>TMIN</th>\n",
              "    </tr>\n",
              "  </thead>\n",
              "  <tbody>\n",
              "    <tr>\n",
              "      <th>443</th>\n",
              "      <td>0.0</td>\n",
              "      <td>89.0</td>\n",
              "      <td>69.0</td>\n",
              "    </tr>\n",
              "    <tr>\n",
              "      <th>1752</th>\n",
              "      <td>0.0</td>\n",
              "      <td>86.0</td>\n",
              "      <td>74.0</td>\n",
              "    </tr>\n",
              "    <tr>\n",
              "      <th>989</th>\n",
              "      <td>0.0</td>\n",
              "      <td>88.0</td>\n",
              "      <td>64.0</td>\n",
              "    </tr>\n",
              "    <tr>\n",
              "      <th>2582</th>\n",
              "      <td>0.0</td>\n",
              "      <td>93.0</td>\n",
              "      <td>70.0</td>\n",
              "    </tr>\n",
              "    <tr>\n",
              "      <th>2879</th>\n",
              "      <td>0.0</td>\n",
              "      <td>91.0</td>\n",
              "      <td>71.0</td>\n",
              "    </tr>\n",
              "    <tr>\n",
              "      <th>...</th>\n",
              "      <td>...</td>\n",
              "      <td>...</td>\n",
              "      <td>...</td>\n",
              "    </tr>\n",
              "    <tr>\n",
              "      <th>409</th>\n",
              "      <td>0.0</td>\n",
              "      <td>90.0</td>\n",
              "      <td>67.0</td>\n",
              "    </tr>\n",
              "    <tr>\n",
              "      <th>2692</th>\n",
              "      <td>0.0</td>\n",
              "      <td>85.0</td>\n",
              "      <td>74.0</td>\n",
              "    </tr>\n",
              "    <tr>\n",
              "      <th>1623</th>\n",
              "      <td>0.0</td>\n",
              "      <td>82.0</td>\n",
              "      <td>71.0</td>\n",
              "    </tr>\n",
              "    <tr>\n",
              "      <th>115</th>\n",
              "      <td>0.0</td>\n",
              "      <td>85.0</td>\n",
              "      <td>71.0</td>\n",
              "    </tr>\n",
              "    <tr>\n",
              "      <th>288</th>\n",
              "      <td>0.0</td>\n",
              "      <td>89.0</td>\n",
              "      <td>64.0</td>\n",
              "    </tr>\n",
              "  </tbody>\n",
              "</table>\n",
              "<p>2914 rows × 3 columns</p>\n",
              "</div>\n",
              "      <button class=\"colab-df-convert\" onclick=\"convertToInteractive('df-d065d15f-9c2f-4f52-8ddd-75a7bf0ead2f')\"\n",
              "              title=\"Convert this dataframe to an interactive table.\"\n",
              "              style=\"display:none;\">\n",
              "        \n",
              "  <svg xmlns=\"http://www.w3.org/2000/svg\" height=\"24px\"viewBox=\"0 0 24 24\"\n",
              "       width=\"24px\">\n",
              "    <path d=\"M0 0h24v24H0V0z\" fill=\"none\"/>\n",
              "    <path d=\"M18.56 5.44l.94 2.06.94-2.06 2.06-.94-2.06-.94-.94-2.06-.94 2.06-2.06.94zm-11 1L8.5 8.5l.94-2.06 2.06-.94-2.06-.94L8.5 2.5l-.94 2.06-2.06.94zm10 10l.94 2.06.94-2.06 2.06-.94-2.06-.94-.94-2.06-.94 2.06-2.06.94z\"/><path d=\"M17.41 7.96l-1.37-1.37c-.4-.4-.92-.59-1.43-.59-.52 0-1.04.2-1.43.59L10.3 9.45l-7.72 7.72c-.78.78-.78 2.05 0 2.83L4 21.41c.39.39.9.59 1.41.59.51 0 1.02-.2 1.41-.59l7.78-7.78 2.81-2.81c.8-.78.8-2.07 0-2.86zM5.41 20L4 18.59l7.72-7.72 1.47 1.35L5.41 20z\"/>\n",
              "  </svg>\n",
              "      </button>\n",
              "      \n",
              "  <style>\n",
              "    .colab-df-container {\n",
              "      display:flex;\n",
              "      flex-wrap:wrap;\n",
              "      gap: 12px;\n",
              "    }\n",
              "\n",
              "    .colab-df-convert {\n",
              "      background-color: #E8F0FE;\n",
              "      border: none;\n",
              "      border-radius: 50%;\n",
              "      cursor: pointer;\n",
              "      display: none;\n",
              "      fill: #1967D2;\n",
              "      height: 32px;\n",
              "      padding: 0 0 0 0;\n",
              "      width: 32px;\n",
              "    }\n",
              "\n",
              "    .colab-df-convert:hover {\n",
              "      background-color: #E2EBFA;\n",
              "      box-shadow: 0px 1px 2px rgba(60, 64, 67, 0.3), 0px 1px 3px 1px rgba(60, 64, 67, 0.15);\n",
              "      fill: #174EA6;\n",
              "    }\n",
              "\n",
              "    [theme=dark] .colab-df-convert {\n",
              "      background-color: #3B4455;\n",
              "      fill: #D2E3FC;\n",
              "    }\n",
              "\n",
              "    [theme=dark] .colab-df-convert:hover {\n",
              "      background-color: #434B5C;\n",
              "      box-shadow: 0px 1px 3px 1px rgba(0, 0, 0, 0.15);\n",
              "      filter: drop-shadow(0px 1px 2px rgba(0, 0, 0, 0.3));\n",
              "      fill: #FFFFFF;\n",
              "    }\n",
              "  </style>\n",
              "\n",
              "      <script>\n",
              "        const buttonEl =\n",
              "          document.querySelector('#df-d065d15f-9c2f-4f52-8ddd-75a7bf0ead2f button.colab-df-convert');\n",
              "        buttonEl.style.display =\n",
              "          google.colab.kernel.accessAllowed ? 'block' : 'none';\n",
              "\n",
              "        async function convertToInteractive(key) {\n",
              "          const element = document.querySelector('#df-d065d15f-9c2f-4f52-8ddd-75a7bf0ead2f');\n",
              "          const dataTable =\n",
              "            await google.colab.kernel.invokeFunction('convertToInteractive',\n",
              "                                                     [key], {});\n",
              "          if (!dataTable) return;\n",
              "\n",
              "          const docLinkHtml = 'Like what you see? Visit the ' +\n",
              "            '<a target=\"_blank\" href=https://colab.research.google.com/notebooks/data_table.ipynb>data table notebook</a>'\n",
              "            + ' to learn more about interactive tables.';\n",
              "          element.innerHTML = '';\n",
              "          dataTable['output_type'] = 'display_data';\n",
              "          await google.colab.output.renderOutput(dataTable, element);\n",
              "          const docLink = document.createElement('div');\n",
              "          docLink.innerHTML = docLinkHtml;\n",
              "          element.appendChild(docLink);\n",
              "        }\n",
              "      </script>\n",
              "    </div>\n",
              "  </div>\n",
              "  "
            ]
          },
          "metadata": {},
          "execution_count": 19
        }
      ]
    },
    {
      "cell_type": "code",
      "source": [
        "Datos_test"
      ],
      "metadata": {
        "colab": {
          "base_uri": "https://localhost:8080/",
          "height": 424
        },
        "id": "OkK73DD0xlem",
        "outputId": "611ea817-6ab8-480e-c243-de1d2e8d33d0"
      },
      "execution_count": null,
      "outputs": [
        {
          "output_type": "execute_result",
          "data": {
            "text/plain": [
              "      PRCP  TMAX  TMIN\n",
              "0     0.00  84.0  73.0\n",
              "3     0.00  85.0  70.0\n",
              "7     0.02  86.0  72.0\n",
              "21    0.01  87.0  67.0\n",
              "24    0.00  85.0  73.0\n",
              "...    ...   ...   ...\n",
              "3622  0.00  89.0  74.0\n",
              "3623  0.00  91.0  76.0\n",
              "3626  0.00  88.0  68.0\n",
              "3643  0.01  88.0  73.0\n",
              "3644  0.00  89.0  75.0\n",
              "\n",
              "[729 rows x 3 columns]"
            ],
            "text/html": [
              "\n",
              "  <div id=\"df-7ccea5c6-2361-40da-813d-ff327caec1b6\">\n",
              "    <div class=\"colab-df-container\">\n",
              "      <div>\n",
              "<style scoped>\n",
              "    .dataframe tbody tr th:only-of-type {\n",
              "        vertical-align: middle;\n",
              "    }\n",
              "\n",
              "    .dataframe tbody tr th {\n",
              "        vertical-align: top;\n",
              "    }\n",
              "\n",
              "    .dataframe thead th {\n",
              "        text-align: right;\n",
              "    }\n",
              "</style>\n",
              "<table border=\"1\" class=\"dataframe\">\n",
              "  <thead>\n",
              "    <tr style=\"text-align: right;\">\n",
              "      <th></th>\n",
              "      <th>PRCP</th>\n",
              "      <th>TMAX</th>\n",
              "      <th>TMIN</th>\n",
              "    </tr>\n",
              "  </thead>\n",
              "  <tbody>\n",
              "    <tr>\n",
              "      <th>0</th>\n",
              "      <td>0.00</td>\n",
              "      <td>84.0</td>\n",
              "      <td>73.0</td>\n",
              "    </tr>\n",
              "    <tr>\n",
              "      <th>3</th>\n",
              "      <td>0.00</td>\n",
              "      <td>85.0</td>\n",
              "      <td>70.0</td>\n",
              "    </tr>\n",
              "    <tr>\n",
              "      <th>7</th>\n",
              "      <td>0.02</td>\n",
              "      <td>86.0</td>\n",
              "      <td>72.0</td>\n",
              "    </tr>\n",
              "    <tr>\n",
              "      <th>21</th>\n",
              "      <td>0.01</td>\n",
              "      <td>87.0</td>\n",
              "      <td>67.0</td>\n",
              "    </tr>\n",
              "    <tr>\n",
              "      <th>24</th>\n",
              "      <td>0.00</td>\n",
              "      <td>85.0</td>\n",
              "      <td>73.0</td>\n",
              "    </tr>\n",
              "    <tr>\n",
              "      <th>...</th>\n",
              "      <td>...</td>\n",
              "      <td>...</td>\n",
              "      <td>...</td>\n",
              "    </tr>\n",
              "    <tr>\n",
              "      <th>3622</th>\n",
              "      <td>0.00</td>\n",
              "      <td>89.0</td>\n",
              "      <td>74.0</td>\n",
              "    </tr>\n",
              "    <tr>\n",
              "      <th>3623</th>\n",
              "      <td>0.00</td>\n",
              "      <td>91.0</td>\n",
              "      <td>76.0</td>\n",
              "    </tr>\n",
              "    <tr>\n",
              "      <th>3626</th>\n",
              "      <td>0.00</td>\n",
              "      <td>88.0</td>\n",
              "      <td>68.0</td>\n",
              "    </tr>\n",
              "    <tr>\n",
              "      <th>3643</th>\n",
              "      <td>0.01</td>\n",
              "      <td>88.0</td>\n",
              "      <td>73.0</td>\n",
              "    </tr>\n",
              "    <tr>\n",
              "      <th>3644</th>\n",
              "      <td>0.00</td>\n",
              "      <td>89.0</td>\n",
              "      <td>75.0</td>\n",
              "    </tr>\n",
              "  </tbody>\n",
              "</table>\n",
              "<p>729 rows × 3 columns</p>\n",
              "</div>\n",
              "      <button class=\"colab-df-convert\" onclick=\"convertToInteractive('df-7ccea5c6-2361-40da-813d-ff327caec1b6')\"\n",
              "              title=\"Convert this dataframe to an interactive table.\"\n",
              "              style=\"display:none;\">\n",
              "        \n",
              "  <svg xmlns=\"http://www.w3.org/2000/svg\" height=\"24px\"viewBox=\"0 0 24 24\"\n",
              "       width=\"24px\">\n",
              "    <path d=\"M0 0h24v24H0V0z\" fill=\"none\"/>\n",
              "    <path d=\"M18.56 5.44l.94 2.06.94-2.06 2.06-.94-2.06-.94-.94-2.06-.94 2.06-2.06.94zm-11 1L8.5 8.5l.94-2.06 2.06-.94-2.06-.94L8.5 2.5l-.94 2.06-2.06.94zm10 10l.94 2.06.94-2.06 2.06-.94-2.06-.94-.94-2.06-.94 2.06-2.06.94z\"/><path d=\"M17.41 7.96l-1.37-1.37c-.4-.4-.92-.59-1.43-.59-.52 0-1.04.2-1.43.59L10.3 9.45l-7.72 7.72c-.78.78-.78 2.05 0 2.83L4 21.41c.39.39.9.59 1.41.59.51 0 1.02-.2 1.41-.59l7.78-7.78 2.81-2.81c.8-.78.8-2.07 0-2.86zM5.41 20L4 18.59l7.72-7.72 1.47 1.35L5.41 20z\"/>\n",
              "  </svg>\n",
              "      </button>\n",
              "      \n",
              "  <style>\n",
              "    .colab-df-container {\n",
              "      display:flex;\n",
              "      flex-wrap:wrap;\n",
              "      gap: 12px;\n",
              "    }\n",
              "\n",
              "    .colab-df-convert {\n",
              "      background-color: #E8F0FE;\n",
              "      border: none;\n",
              "      border-radius: 50%;\n",
              "      cursor: pointer;\n",
              "      display: none;\n",
              "      fill: #1967D2;\n",
              "      height: 32px;\n",
              "      padding: 0 0 0 0;\n",
              "      width: 32px;\n",
              "    }\n",
              "\n",
              "    .colab-df-convert:hover {\n",
              "      background-color: #E2EBFA;\n",
              "      box-shadow: 0px 1px 2px rgba(60, 64, 67, 0.3), 0px 1px 3px 1px rgba(60, 64, 67, 0.15);\n",
              "      fill: #174EA6;\n",
              "    }\n",
              "\n",
              "    [theme=dark] .colab-df-convert {\n",
              "      background-color: #3B4455;\n",
              "      fill: #D2E3FC;\n",
              "    }\n",
              "\n",
              "    [theme=dark] .colab-df-convert:hover {\n",
              "      background-color: #434B5C;\n",
              "      box-shadow: 0px 1px 3px 1px rgba(0, 0, 0, 0.15);\n",
              "      filter: drop-shadow(0px 1px 2px rgba(0, 0, 0, 0.3));\n",
              "      fill: #FFFFFF;\n",
              "    }\n",
              "  </style>\n",
              "\n",
              "      <script>\n",
              "        const buttonEl =\n",
              "          document.querySelector('#df-7ccea5c6-2361-40da-813d-ff327caec1b6 button.colab-df-convert');\n",
              "        buttonEl.style.display =\n",
              "          google.colab.kernel.accessAllowed ? 'block' : 'none';\n",
              "\n",
              "        async function convertToInteractive(key) {\n",
              "          const element = document.querySelector('#df-7ccea5c6-2361-40da-813d-ff327caec1b6');\n",
              "          const dataTable =\n",
              "            await google.colab.kernel.invokeFunction('convertToInteractive',\n",
              "                                                     [key], {});\n",
              "          if (!dataTable) return;\n",
              "\n",
              "          const docLinkHtml = 'Like what you see? Visit the ' +\n",
              "            '<a target=\"_blank\" href=https://colab.research.google.com/notebooks/data_table.ipynb>data table notebook</a>'\n",
              "            + ' to learn more about interactive tables.';\n",
              "          element.innerHTML = '';\n",
              "          dataTable['output_type'] = 'display_data';\n",
              "          await google.colab.output.renderOutput(dataTable, element);\n",
              "          const docLink = document.createElement('div');\n",
              "          docLink.innerHTML = docLinkHtml;\n",
              "          element.appendChild(docLink);\n",
              "        }\n",
              "      </script>\n",
              "    </div>\n",
              "  </div>\n",
              "  "
            ]
          },
          "metadata": {},
          "execution_count": 20
        }
      ]
    },
    {
      "cell_type": "markdown",
      "source": [
        "Marcamos el valor a predecir en ambas bases"
      ],
      "metadata": {
        "id": "e6S44s-exsi0"
      }
    },
    {
      "cell_type": "code",
      "source": [
        "etiqueta_entrenamiento = Datos_entrenamiento.pop('PRCP')\n",
        "etiqueta_test = Datos_test.pop('PRCP')"
      ],
      "metadata": {
        "id": "a31eAsPUPL8P"
      },
      "execution_count": null,
      "outputs": []
    },
    {
      "cell_type": "markdown",
      "source": [
        "Revisamos los datos"
      ],
      "metadata": {
        "id": "UXNkzJXnPJrB"
      }
    },
    {
      "cell_type": "code",
      "source": [
        "etiqueta_entrenamiento"
      ],
      "metadata": {
        "colab": {
          "base_uri": "https://localhost:8080/"
        },
        "id": "igrHMBLIyYY1",
        "outputId": "4ee9b6d1-3bf8-4c7f-d35c-4613c1251c48"
      },
      "execution_count": null,
      "outputs": [
        {
          "output_type": "execute_result",
          "data": {
            "text/plain": [
              "443     0.0\n",
              "1752    0.0\n",
              "989     0.0\n",
              "2582    0.0\n",
              "2879    0.0\n",
              "       ... \n",
              "409     0.0\n",
              "2692    0.0\n",
              "1623    0.0\n",
              "115     0.0\n",
              "288     0.0\n",
              "Name: PRCP, Length: 2914, dtype: float64"
            ]
          },
          "metadata": {},
          "execution_count": 22
        }
      ]
    },
    {
      "cell_type": "code",
      "source": [
        "etiqueta_test"
      ],
      "metadata": {
        "colab": {
          "base_uri": "https://localhost:8080/"
        },
        "id": "LaMKk6J8yeP9",
        "outputId": "8f1fe20f-22cb-4768-e9c5-086662e7c623"
      },
      "execution_count": null,
      "outputs": [
        {
          "output_type": "execute_result",
          "data": {
            "text/plain": [
              "0       0.00\n",
              "3       0.00\n",
              "7       0.02\n",
              "21      0.01\n",
              "24      0.00\n",
              "        ... \n",
              "3622    0.00\n",
              "3623    0.00\n",
              "3626    0.00\n",
              "3643    0.01\n",
              "3644    0.00\n",
              "Name: PRCP, Length: 729, dtype: float64"
            ]
          },
          "metadata": {},
          "execution_count": 23
        }
      ]
    },
    {
      "cell_type": "code",
      "source": [
        "Datos_entrenamiento"
      ],
      "metadata": {
        "colab": {
          "base_uri": "https://localhost:8080/",
          "height": 424
        },
        "id": "pO0TzJWgyka_",
        "outputId": "d061f69d-b1b1-48a1-8956-1e4e0737a201"
      },
      "execution_count": null,
      "outputs": [
        {
          "output_type": "execute_result",
          "data": {
            "text/plain": [
              "      TMAX  TMIN\n",
              "443   89.0  69.0\n",
              "1752  86.0  74.0\n",
              "989   88.0  64.0\n",
              "2582  93.0  70.0\n",
              "2879  91.0  71.0\n",
              "...    ...   ...\n",
              "409   90.0  67.0\n",
              "2692  85.0  74.0\n",
              "1623  82.0  71.0\n",
              "115   85.0  71.0\n",
              "288   89.0  64.0\n",
              "\n",
              "[2914 rows x 2 columns]"
            ],
            "text/html": [
              "\n",
              "  <div id=\"df-50e0dbb0-5e93-4192-89fe-0e4bdaae76a4\">\n",
              "    <div class=\"colab-df-container\">\n",
              "      <div>\n",
              "<style scoped>\n",
              "    .dataframe tbody tr th:only-of-type {\n",
              "        vertical-align: middle;\n",
              "    }\n",
              "\n",
              "    .dataframe tbody tr th {\n",
              "        vertical-align: top;\n",
              "    }\n",
              "\n",
              "    .dataframe thead th {\n",
              "        text-align: right;\n",
              "    }\n",
              "</style>\n",
              "<table border=\"1\" class=\"dataframe\">\n",
              "  <thead>\n",
              "    <tr style=\"text-align: right;\">\n",
              "      <th></th>\n",
              "      <th>TMAX</th>\n",
              "      <th>TMIN</th>\n",
              "    </tr>\n",
              "  </thead>\n",
              "  <tbody>\n",
              "    <tr>\n",
              "      <th>443</th>\n",
              "      <td>89.0</td>\n",
              "      <td>69.0</td>\n",
              "    </tr>\n",
              "    <tr>\n",
              "      <th>1752</th>\n",
              "      <td>86.0</td>\n",
              "      <td>74.0</td>\n",
              "    </tr>\n",
              "    <tr>\n",
              "      <th>989</th>\n",
              "      <td>88.0</td>\n",
              "      <td>64.0</td>\n",
              "    </tr>\n",
              "    <tr>\n",
              "      <th>2582</th>\n",
              "      <td>93.0</td>\n",
              "      <td>70.0</td>\n",
              "    </tr>\n",
              "    <tr>\n",
              "      <th>2879</th>\n",
              "      <td>91.0</td>\n",
              "      <td>71.0</td>\n",
              "    </tr>\n",
              "    <tr>\n",
              "      <th>...</th>\n",
              "      <td>...</td>\n",
              "      <td>...</td>\n",
              "    </tr>\n",
              "    <tr>\n",
              "      <th>409</th>\n",
              "      <td>90.0</td>\n",
              "      <td>67.0</td>\n",
              "    </tr>\n",
              "    <tr>\n",
              "      <th>2692</th>\n",
              "      <td>85.0</td>\n",
              "      <td>74.0</td>\n",
              "    </tr>\n",
              "    <tr>\n",
              "      <th>1623</th>\n",
              "      <td>82.0</td>\n",
              "      <td>71.0</td>\n",
              "    </tr>\n",
              "    <tr>\n",
              "      <th>115</th>\n",
              "      <td>85.0</td>\n",
              "      <td>71.0</td>\n",
              "    </tr>\n",
              "    <tr>\n",
              "      <th>288</th>\n",
              "      <td>89.0</td>\n",
              "      <td>64.0</td>\n",
              "    </tr>\n",
              "  </tbody>\n",
              "</table>\n",
              "<p>2914 rows × 2 columns</p>\n",
              "</div>\n",
              "      <button class=\"colab-df-convert\" onclick=\"convertToInteractive('df-50e0dbb0-5e93-4192-89fe-0e4bdaae76a4')\"\n",
              "              title=\"Convert this dataframe to an interactive table.\"\n",
              "              style=\"display:none;\">\n",
              "        \n",
              "  <svg xmlns=\"http://www.w3.org/2000/svg\" height=\"24px\"viewBox=\"0 0 24 24\"\n",
              "       width=\"24px\">\n",
              "    <path d=\"M0 0h24v24H0V0z\" fill=\"none\"/>\n",
              "    <path d=\"M18.56 5.44l.94 2.06.94-2.06 2.06-.94-2.06-.94-.94-2.06-.94 2.06-2.06.94zm-11 1L8.5 8.5l.94-2.06 2.06-.94-2.06-.94L8.5 2.5l-.94 2.06-2.06.94zm10 10l.94 2.06.94-2.06 2.06-.94-2.06-.94-.94-2.06-.94 2.06-2.06.94z\"/><path d=\"M17.41 7.96l-1.37-1.37c-.4-.4-.92-.59-1.43-.59-.52 0-1.04.2-1.43.59L10.3 9.45l-7.72 7.72c-.78.78-.78 2.05 0 2.83L4 21.41c.39.39.9.59 1.41.59.51 0 1.02-.2 1.41-.59l7.78-7.78 2.81-2.81c.8-.78.8-2.07 0-2.86zM5.41 20L4 18.59l7.72-7.72 1.47 1.35L5.41 20z\"/>\n",
              "  </svg>\n",
              "      </button>\n",
              "      \n",
              "  <style>\n",
              "    .colab-df-container {\n",
              "      display:flex;\n",
              "      flex-wrap:wrap;\n",
              "      gap: 12px;\n",
              "    }\n",
              "\n",
              "    .colab-df-convert {\n",
              "      background-color: #E8F0FE;\n",
              "      border: none;\n",
              "      border-radius: 50%;\n",
              "      cursor: pointer;\n",
              "      display: none;\n",
              "      fill: #1967D2;\n",
              "      height: 32px;\n",
              "      padding: 0 0 0 0;\n",
              "      width: 32px;\n",
              "    }\n",
              "\n",
              "    .colab-df-convert:hover {\n",
              "      background-color: #E2EBFA;\n",
              "      box-shadow: 0px 1px 2px rgba(60, 64, 67, 0.3), 0px 1px 3px 1px rgba(60, 64, 67, 0.15);\n",
              "      fill: #174EA6;\n",
              "    }\n",
              "\n",
              "    [theme=dark] .colab-df-convert {\n",
              "      background-color: #3B4455;\n",
              "      fill: #D2E3FC;\n",
              "    }\n",
              "\n",
              "    [theme=dark] .colab-df-convert:hover {\n",
              "      background-color: #434B5C;\n",
              "      box-shadow: 0px 1px 3px 1px rgba(0, 0, 0, 0.15);\n",
              "      filter: drop-shadow(0px 1px 2px rgba(0, 0, 0, 0.3));\n",
              "      fill: #FFFFFF;\n",
              "    }\n",
              "  </style>\n",
              "\n",
              "      <script>\n",
              "        const buttonEl =\n",
              "          document.querySelector('#df-50e0dbb0-5e93-4192-89fe-0e4bdaae76a4 button.colab-df-convert');\n",
              "        buttonEl.style.display =\n",
              "          google.colab.kernel.accessAllowed ? 'block' : 'none';\n",
              "\n",
              "        async function convertToInteractive(key) {\n",
              "          const element = document.querySelector('#df-50e0dbb0-5e93-4192-89fe-0e4bdaae76a4');\n",
              "          const dataTable =\n",
              "            await google.colab.kernel.invokeFunction('convertToInteractive',\n",
              "                                                     [key], {});\n",
              "          if (!dataTable) return;\n",
              "\n",
              "          const docLinkHtml = 'Like what you see? Visit the ' +\n",
              "            '<a target=\"_blank\" href=https://colab.research.google.com/notebooks/data_table.ipynb>data table notebook</a>'\n",
              "            + ' to learn more about interactive tables.';\n",
              "          element.innerHTML = '';\n",
              "          dataTable['output_type'] = 'display_data';\n",
              "          await google.colab.output.renderOutput(dataTable, element);\n",
              "          const docLink = document.createElement('div');\n",
              "          docLink.innerHTML = docLinkHtml;\n",
              "          element.appendChild(docLink);\n",
              "        }\n",
              "      </script>\n",
              "    </div>\n",
              "  </div>\n",
              "  "
            ]
          },
          "metadata": {},
          "execution_count": 24
        }
      ]
    },
    {
      "cell_type": "markdown",
      "source": [
        "Le ensenamos a nuestro modelo regresion lineal"
      ],
      "metadata": {
        "id": "TfyMFTqBywyD"
      }
    },
    {
      "cell_type": "code",
      "source": [
        "from sklearn.linear_model import LinearRegression\n",
        "modelo = LinearRegression()\n",
        "modelo.fit(Datos_entrenamiento,etiqueta_entrenamiento)"
      ],
      "metadata": {
        "colab": {
          "base_uri": "https://localhost:8080/"
        },
        "id": "U4OBQwqTy4Hb",
        "outputId": "6ff673bc-1205-4244-f7a1-fabfa00e4270"
      },
      "execution_count": null,
      "outputs": [
        {
          "output_type": "execute_result",
          "data": {
            "text/plain": [
              "LinearRegression()"
            ]
          },
          "metadata": {},
          "execution_count": 25
        }
      ]
    },
    {
      "cell_type": "markdown",
      "source": [
        "Ejecutamos las pruebas"
      ],
      "metadata": {
        "id": "HqaQqrvCzjPw"
      }
    },
    {
      "cell_type": "code",
      "source": [
        "Predicciones = modelo.predict(Datos_test)\n",
        "Predicciones"
      ],
      "metadata": {
        "colab": {
          "base_uri": "https://localhost:8080/"
        },
        "id": "rQHrtGLszhq7",
        "outputId": "d0f2d4c7-50d0-49e0-8e1c-ee5c28e79dc6"
      },
      "execution_count": null,
      "outputs": [
        {
          "output_type": "execute_result",
          "data": {
            "text/plain": [
              "array([ 0.13073901,  0.08337668,  0.07828698,  0.0140156 ,  0.10874026,\n",
              "        0.10028573,  0.042744  ,  0.05628823,  0.03601435,  0.03937918,\n",
              "        0.0140156 ,  0.02583495, -0.00798315,  0.01065078,  0.05292341,\n",
              "       -0.0012535 , -0.02661708,  0.06137793,  0.11555484,  0.09864579,\n",
              "        0.03437441,  0.10710031,  0.14091842,  0.18491592,  0.09528096,\n",
              "        0.04282893,  0.03437441,  0.13082394,  0.18491592,  0.13246389,\n",
              "        0.15109782,  0.0292847 ,  0.19000562,  0.19337045,  0.12745912,\n",
              "        0.12236942,  0.22891343,  0.21709408,  0.16800687,  0.17309657,\n",
              "        0.05128346,  0.15618752,  0.21709408, -0.05534548, -0.02825703,\n",
              "        0.06983246, -0.01134798,  0.02247013,  0.042744  , -0.04180125,\n",
              "       -0.07225453,  0.04110405,  0.01738043,  0.08001186,  0.0376543 ,\n",
              "        0.05628823,  0.06137793,  0.08337668,  0.10874026,  0.00720102,\n",
              "       -0.00461833, -0.0299819 ,  0.09183121,  0.01229072,  0.0478337 ,\n",
              "        0.02919978, -0.04861583,  0.01738043,  0.05119853, -0.00461833,\n",
              "       -0.04352613, -0.08752364,  0.0376543 ,  0.08674151, -0.02325225,\n",
              "        0.00211132, -0.00461833,  0.00720102,  0.02074525,  0.02074525,\n",
              "       -0.05707036, -0.03843643,  0.01738043,  0.05628823, -0.03843643,\n",
              "        0.03601435,  0.01065078,  0.02755983,  0.02583495,  0.12228449,\n",
              "       -0.00625828,  0.01574048,  0.02755983,  0.11382996,  0.15618752,\n",
              "       -0.01134798,  0.04619376,  0.13927847,  0.06655256,  0.33554236,\n",
              "        0.03264953,  0.11046514,  0.06310281,  0.07664703,  0.02083018,\n",
              "        0.1917305 ,  0.10037066,  0.11046514,  0.11891966,  0.14937294,\n",
              "        0.17646139,  0.19000562,  0.18828075,  0.10874026,  0.01574048,\n",
              "        0.17646139,  0.11382996,  0.10028573,  0.15782747,  0.09864579,\n",
              "       -0.01643768,  0.24582248, -0.00798315,  0.05464828,  0.03428948,\n",
              "        0.03428948,  0.02919978,  0.042744  ,  0.05628823,  0.03428948,\n",
              "        0.01065078,  0.042744  ,  0.02074525,  0.03428948,  0.06474276,\n",
              "        0.02919978, -0.05534548,  0.01738043, -0.02661708, -0.05707036,\n",
              "        0.0376543 ,  0.02919978,  0.042744  , -0.02152738, -0.02661708,\n",
              "       -0.0012535 ,  0.02074525,  0.05119853, -0.01643768,  0.02919978,\n",
              "       -0.08243393, -0.07061458,  0.01565555,  0.05456335, -0.00461833,\n",
              "       -0.03507161, -0.09261334,  0.0376543 , -0.00970803,  0.03428948,\n",
              "       -0.03843643,  0.042744  ,  0.08674151,  0.05965305, -0.02152738,\n",
              "        0.10201061,  0.00219625,  0.14937294,  0.12228449, -0.0198025 ,\n",
              "        0.07492216,  0.16291717,  0.16127722,  0.11219001,  0.00392113,\n",
              "        0.00219625,  0.06819251,  0.19846015,  0.15791239,  0.2255486 ,\n",
              "        0.05637316,  0.05128346,  0.10710031,  0.30845391,  0.27118605,\n",
              "        0.09019126,  0.11046514,  0.04282893,  0.03264953,  0.05128346,\n",
              "        0.0191053 ,  0.26782123,  0.36263082,  0.07837191,  0.09191614,\n",
              "        0.06482768,  0.14091842, -0.05534548,  0.07828698,  0.12737419,\n",
              "        0.14937294, -0.07734423,  0.10537544,  0.09355609,  0.14937294,\n",
              "        0.12228449,  0.14091842,  0.11382996,  0.06646763, -0.0248922 ,\n",
              "        0.042744  ,  0.09519603, -0.01479773, -0.11461209, -0.07570429,\n",
              "        0.0325646 ,  0.01565555,  0.00211132, -0.09770304, -0.13833572,\n",
              "        0.09519603, -0.04525101, -0.04188618, -0.03170678, -0.04016131,\n",
              "       -0.10615756,  0.02411008,  0.0376543 , -0.06552488, -0.0114329 ,\n",
              "       -0.06216006,  0.042744  ,  0.07319728,  0.11382996,  0.06137793,\n",
              "       -0.06888971, -0.00970803,  0.04446888,  0.02247013, -0.04525101,\n",
              "       -0.10106786,  0.0089259 ,  0.09519603,  0.07319728,  0.08674151,\n",
              "        0.10028573,  0.12228449, -0.00289345,  0.18828075,  0.14428324,\n",
              "        0.03264953,  0.14428324,  0.17137169,  0.16291717,  0.18491592,\n",
              "        0.16291717,  0.04619376,  0.05637316, -0.00625828, -0.0147128 ,\n",
              "       -0.03671155,  0.01746535, -0.0096231 , -0.09425329,  0.11891966,\n",
              "        0.11891966,  0.11219001, -0.03334673,  0.17309657,  0.13755359,\n",
              "        0.04619376,  0.05464828, -0.01134798,  0.10710031,  0.03264953,\n",
              "        0.03264953,  0.024195  ,  0.10537544,  0.02583495,  0.07828698,\n",
              "        0.08337668,  0.27291093,  0.11046514, -0.0299819 ,  0.02583495,\n",
              "        0.00556108,  0.03264953,  0.15782747,  0.04446888,  0.07319728,\n",
              "        0.03601435, -0.06552488,  0.06474276,  0.07319728, -0.02661708,\n",
              "        0.09010633,  0.10028573,  0.0478337 ,  0.05119853,  0.05965305,\n",
              "       -0.05879523, -0.10106786,  0.0325646 ,  0.05965305,  0.02919978,\n",
              "       -0.04016131,  0.07319728,  0.06474276,  0.02074525,  0.0089259 ,\n",
              "        0.05965305,  0.01565555,  0.03428948, -0.05198066,  0.05965305,\n",
              "        0.05119853,  0.08674151,  0.10028573,  0.05628823,  0.12228449,\n",
              "        0.14428324,  0.15782747,  0.15273777,  0.02755983, -0.01134798,\n",
              "        0.04110405,  0.05119853,  0.11719479,  0.19337045,  0.26782123,\n",
              "        0.13582871,  0.06310281,  0.11555484,  0.11727971,  0.04955858,\n",
              "        0.08510156, -0.02316733,  0.03264953,  0.06146286,  0.11391489,\n",
              "        0.16628199,  0.17473652,  0.03773923,  0.08001186,  0.06310281,\n",
              "        0.00219625,  0.14937294,  0.07828698,  0.13073901,  0.17473652,\n",
              "        0.0191053 ,  0.04446888,  0.04955858,  0.14091842, -0.00461833,\n",
              "        0.11555484,  0.34063206,  0.08001186,  0.06983246, -0.05198066,\n",
              "        0.07828698,  0.05119853,  0.03428948,  0.07828698,  0.0376543 ,\n",
              "        0.02411008,  0.05965305,  0.0376543 ,  0.05965305, -0.01816255,\n",
              "       -0.03170678, -0.04352613, -0.04352613,  0.05119853,  0.02919978,\n",
              "       -0.08415881, -0.13152114, -0.07906911, -0.0063432 ,  0.01738043,\n",
              "       -0.04525101, -0.00798315, -0.08752364, -0.0063432 ,  0.02919978,\n",
              "        0.02247013, -0.01643768, -0.08924851,  0.0376543 ,  0.08165181,\n",
              "        0.17646139,  0.13246389,  0.0140156 , -0.01643768,  0.00392113,\n",
              "        0.00556108,  0.06819251,  0.19846015,  0.2255486 ,  0.28136546,\n",
              "        0.17309657,  0.11391489,  0.05637316,  0.15109782,  0.11891966,\n",
              "        0.20354985,  0.10037066,  0.03437441,  0.04791863,  0.01237565,\n",
              "        0.10037066,  0.13418877,  0.17982622, -0.01134798,  0.16464204,\n",
              "        0.15109782,  0.11046514,  0.13073901,  0.12909906,  0.17646139,\n",
              "        0.17818627,  0.07492216,  0.11219001,  0.21372925,  0.13927847,\n",
              "        0.13418877,  0.00219625, -0.0198025 ,  0.19337045,  0.24073278,\n",
              "        0.24245765,  0.14937294,  0.11891966,  0.13246389,  0.28645516,\n",
              "        0.15109782,  0.13246389,  0.05292341,  0.11046514,  0.06474276,\n",
              "       -0.01307285, -0.06888971,  0.03264953,  0.06474276,  0.042744  ,\n",
              "        0.05119853, -0.0012535 ,  0.13073901, -0.03843643,  0.09519603,\n",
              "       -0.05707036,  0.01565555,  0.042744  ,  0.10874026,  0.02411008,\n",
              "       -0.04525101,  0.00720102,  0.0325646 ,  0.14937294,  0.03428948,\n",
              "        0.03092465, -0.07397941, -0.05707036, -0.01479773, -0.10443269,\n",
              "       -0.01643768, -0.02661708,  0.07319728,  0.05965305,  0.01902037,\n",
              "        0.05119853, -0.06888971, -0.05198066,  0.03092465,  0.06137793,\n",
              "       -0.00116857,  0.03773923,  0.22891343,  0.17646139,  0.09355609,\n",
              "        0.12737419,  0.05801311,  0.02083018,  0.03773923,  0.28981998,\n",
              "        0.16800687,  0.024195  ,  0.08337668,  0.14937294,  0.17991115,\n",
              "        0.07664703,  0.11555484,  0.17137169,  0.15446264,  0.09019126,\n",
              "        0.08337668,  0.05464828, -0.02825703,  0.03092465, -0.0147128 ,\n",
              "        0.07319728, -0.06043518,  0.05628823,  0.024195  , -0.18397317,\n",
              "       -0.06552488, -0.16197442, -0.02661708, -0.00461833, -0.08752364,\n",
              "       -0.06043518, -0.13661084, -0.07906911, -0.07397941, -0.13152114,\n",
              "       -0.0114329 , -0.04188618, -0.0063432 , -0.04188618, -0.06552488,\n",
              "       -0.03343166, -0.04188618,  0.04101913, -0.08415881, -0.11970179,\n",
              "       -0.10279274, -0.09770304, -0.10106786, -0.08243393, -0.08243393,\n",
              "       -0.12643144,  0.07319728,  0.00556108, -0.07061458,  0.09519603,\n",
              "       -0.09934299, -0.0299819 ,  0.06983246,  0.18828075, -0.00289345,\n",
              "       -0.02316733,  0.10874026,  0.13919354,  0.03092465,  0.12228449,\n",
              "        0.14937294,  0.2153692 ,  0.06991738, -0.04007638, -0.00116857,\n",
              "        0.024195  ,  0.05464828,  0.01574048, -0.00116857,  0.12236942,\n",
              "        0.17818627,  0.05637316,  0.14091842,  0.15446264,  0.08846638,\n",
              "        0.17309657, -0.02825703,  0.19000562,  0.2153692 ,  0.07328221,\n",
              "        0.11219001,  0.15446264,  0.08001186,  0.05801311,  0.00219625,\n",
              "        0.16291717,  0.00728595, -0.0147128 , -0.0198025 ,  0.09183121,\n",
              "        0.07828698,  0.06983246, -0.01643768, -0.04689096, -0.0299819 ,\n",
              "       -0.03507161, -0.06552488, -0.04861583,  0.02583495,  0.06810758,\n",
              "        0.02919978,  0.01565555, -0.05034071,  0.00211132, -0.05034071,\n",
              "        0.01056585,  0.04610883,  0.01565555, -0.0114329 , -0.06724976,\n",
              "       -0.0114329 ,  0.01902037,  0.00211132,  0.00720102,  0.00211132,\n",
              "        0.05456335, -0.03343166, -0.12306662, -0.04188618, -0.01988743,\n",
              "       -0.03679648, -0.03343166, -0.10106786, -0.16706412, -0.03170678,\n",
              "       -0.03170678,  0.01565555, -0.08415881, -0.06552488, -0.08752364,\n",
              "       -0.10615756, -0.02834196, -0.04861583, -0.10279274,  0.01565555,\n",
              "        0.10874026,  0.15273777, -0.04516608,  0.042744  , -0.05534548,\n",
              "        0.0191053 ,  0.02755983, -0.02152738,  0.12737419, -0.00625828,\n",
              "       -0.00116857, -0.05534548,  0.18828075,  0.12400936,  0.11219001,\n",
              "        0.20354985,  0.30508909,  0.08001186,  0.04110405,  0.17309657,\n",
              "        0.14600812,  0.03773923,  0.15955234,  0.20691467,  0.12236942,\n",
              "        0.03773923,  0.01065078,  0.08510156,  0.11219001,  0.12909906,\n",
              "        0.04110405,  0.08337668,  0.03092465,  0.0191053 ,  0.07492216,\n",
              "        0.12737419,  0.10710031,  0.0089259 ,  0.00556108,  0.03428948,\n",
              "        0.07828698,  0.03092465,  0.04110405, -0.05025578,  0.05628823,\n",
              "        0.08674151, -0.05534548, -0.03843643,  0.02074525,  0.042744  ,\n",
              "        0.06983246,  0.05965305,  0.042744  , -0.05534548,  0.05628823,\n",
              "       -0.00798315,  0.02074525, -0.00798315, -0.02661708,  0.05119853,\n",
              "        0.06474276,  0.02074525,  0.06810758,  0.06474276,  0.08674151,\n",
              "        0.10874026,  0.02583495, -0.05025578, -0.02152738,  0.05973798,\n",
              "        0.28645516,  0.18491592,  0.03946411,  0.09019126,  0.10373549,\n",
              "        0.024195  ,  0.04619376,  0.13582871,  0.07492216, -0.02653215,\n",
              "        0.03437441, -0.0198025 ,  0.05464828, -0.11288721, -0.03334673,\n",
              "        0.00219625,  0.0089259 ,  0.14091842,  0.08846638,  0.10537544,\n",
              "        0.10874026,  0.03937918,  0.06474276,  0.07828698,  0.06983246,\n",
              "       -0.04689096, -0.03843643,  0.06983246,  0.02755983,  0.05292341,\n",
              "        0.05801311, -0.05534548, -0.03334673,  0.0376543 ,  0.02919978,\n",
              "        0.00211132,  0.00047137,  0.042744  ,  0.0376543 ])"
            ]
          },
          "metadata": {},
          "execution_count": 26
        }
      ]
    },
    {
      "cell_type": "markdown",
      "source": [
        "Comparamos con los valores reales"
      ],
      "metadata": {
        "id": "uPej3GcRz52p"
      }
    },
    {
      "cell_type": "code",
      "source": [
        "import numpy as np\n",
        "from sklearn.metrics import mean_squared_error\n",
        "error= np.sqrt(mean_squared_error(etiqueta_test, Predicciones))\n",
        "print(\"Error porcentual : %f\" % (error*100))"
      ],
      "metadata": {
        "colab": {
          "base_uri": "https://localhost:8080/"
        },
        "id": "KGOAlpSrz96m",
        "outputId": "323fc8f5-bf1c-4498-cd1a-62bc3c3ba7b2"
      },
      "execution_count": null,
      "outputs": [
        {
          "output_type": "stream",
          "name": "stdout",
          "text": [
            "Error porcentual : 17.932179\n"
          ]
        }
      ]
    },
    {
      "cell_type": "markdown",
      "source": [
        "Ahora vamos a ingresar los datos de la temperatura para que nos de una prediccion"
      ],
      "metadata": {
        "id": "L8raLvaP2EjD"
      }
    },
    {
      "cell_type": "code",
      "source": [
        "Precipitaciones= pd.DataFrame(np.array([[20,89]]),columns=['TMAX','TMIN'])\n",
        "Precipitaciones"
      ],
      "metadata": {
        "colab": {
          "base_uri": "https://localhost:8080/",
          "height": 183
        },
        "id": "szULd5EN2QwZ",
        "outputId": "1a9f9618-83a9-4990-d101-d8c0507da299"
      },
      "execution_count": null,
      "outputs": [
        {
          "output_type": "error",
          "ename": "NameError",
          "evalue": "ignored",
          "traceback": [
            "\u001b[0;31m---------------------------------------------------------------------------\u001b[0m",
            "\u001b[0;31mNameError\u001b[0m                                 Traceback (most recent call last)",
            "\u001b[0;32m<ipython-input-1-22c85d25f89f>\u001b[0m in \u001b[0;36m<cell line: 1>\u001b[0;34m()\u001b[0m\n\u001b[0;32m----> 1\u001b[0;31m \u001b[0mPrecipitaciones\u001b[0m\u001b[0;34m=\u001b[0m \u001b[0mpd\u001b[0m\u001b[0;34m.\u001b[0m\u001b[0mDataFrame\u001b[0m\u001b[0;34m(\u001b[0m\u001b[0mnp\u001b[0m\u001b[0;34m.\u001b[0m\u001b[0marray\u001b[0m\u001b[0;34m(\u001b[0m\u001b[0;34m[\u001b[0m\u001b[0;34m[\u001b[0m\u001b[0;36m20\u001b[0m\u001b[0;34m,\u001b[0m\u001b[0;36m89\u001b[0m\u001b[0;34m]\u001b[0m\u001b[0;34m]\u001b[0m\u001b[0;34m)\u001b[0m\u001b[0;34m,\u001b[0m\u001b[0mcolumns\u001b[0m\u001b[0;34m=\u001b[0m\u001b[0;34m[\u001b[0m\u001b[0;34m'TMAX'\u001b[0m\u001b[0;34m,\u001b[0m\u001b[0;34m'TMIN'\u001b[0m\u001b[0;34m]\u001b[0m\u001b[0;34m)\u001b[0m\u001b[0;34m\u001b[0m\u001b[0;34m\u001b[0m\u001b[0m\n\u001b[0m\u001b[1;32m      2\u001b[0m \u001b[0mPrecipitaciones\u001b[0m\u001b[0;34m\u001b[0m\u001b[0;34m\u001b[0m\u001b[0m\n",
            "\u001b[0;31mNameError\u001b[0m: name 'pd' is not defined"
          ]
        }
      ]
    },
    {
      "cell_type": "code",
      "source": [
        "modelo.predict(Precipitaciones)"
      ],
      "metadata": {
        "colab": {
          "base_uri": "https://localhost:8080/"
        },
        "id": "SraOVWnq22h-",
        "outputId": "80148fe5-845c-4167-bee1-ed0a2f60958d"
      },
      "execution_count": null,
      "outputs": [
        {
          "output_type": "execute_result",
          "data": {
            "text/plain": [
              "array([0.8786966])"
            ]
          },
          "metadata": {},
          "execution_count": 35
        }
      ]
    }
  ]
}